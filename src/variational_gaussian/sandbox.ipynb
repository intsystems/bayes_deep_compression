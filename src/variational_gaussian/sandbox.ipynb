{
 "cells": [
  {
   "cell_type": "code",
   "execution_count": 1,
   "metadata": {},
   "outputs": [],
   "source": [
    "import torch\n",
    "import torch.nn as nn"
   ]
  },
  {
   "cell_type": "code",
   "execution_count": 15,
   "metadata": {},
   "outputs": [],
   "source": [
    "from copy import deepcopy\n",
    "\n",
    "class A:\n",
    "    def __new__(cls, num): \n",
    "        class RenamedClass(A): pass\n",
    "        RenamedClass.__name__ = RenamedClass.__name__ + str(num)\n",
    "        RenamedClass.__qualname__ = RenamedClass.__qualname__ + str(num)\n",
    "\n",
    "        return super().__new__(RenamedClass)\n",
    "\n",
    "    def __init__(self, num: int) -> None:\n",
    "        self.num_ = num"
   ]
  },
  {
   "cell_type": "code",
   "execution_count": 16,
   "metadata": {},
   "outputs": [
    {
     "name": "stdout",
     "output_type": "stream",
     "text": [
      "2\n",
      "<class '__main__.A.__new__.<locals>.RenamedClass2'>\n",
      "RenamedClass2\n"
     ]
    }
   ],
   "source": [
    "a = A(2)\n",
    "print(a.num_)\n",
    "print(type(a))\n",
    "print(type(a).__name__)"
   ]
  },
  {
   "cell_type": "code",
   "execution_count": 18,
   "metadata": {},
   "outputs": [
    {
     "name": "stdout",
     "output_type": "stream",
     "text": [
      "(<class '__main__.A'>,)\n"
     ]
    }
   ],
   "source": [
    "print(type(a).__bases__)"
   ]
  },
  {
   "cell_type": "code",
   "execution_count": 5,
   "metadata": {},
   "outputs": [
    {
     "data": {
      "text/plain": [
       "{'num_': 2}"
      ]
     },
     "execution_count": 5,
     "metadata": {},
     "output_type": "execute_result"
    }
   ],
   "source": [
    "a.__dict__"
   ]
  },
  {
   "cell_type": "code",
   "execution_count": 10,
   "metadata": {},
   "outputs": [
    {
     "data": {
      "text/plain": [
       "type"
      ]
     },
     "execution_count": 10,
     "metadata": {},
     "output_type": "execute_result"
    }
   ],
   "source": [
    "a.__class__.__class__"
   ]
  },
  {
   "cell_type": "code",
   "execution_count": 2,
   "metadata": {},
   "outputs": [],
   "source": [
    "class myModule(nn.Module):\n",
    "    def __init__(self) -> None:\n",
    "        super().__init__()\n",
    "\n",
    "        self.linear_1 = nn.Linear(10, 20)\n",
    "        self.linear_2 = nn.Linear(5, 10)\n",
    "\n",
    "    def forward(self, x):\n",
    "        return self.linear_1(self.linear_2(x))"
   ]
  },
  {
   "cell_type": "code",
   "execution_count": 3,
   "metadata": {},
   "outputs": [],
   "source": [
    "net = myModule()\n",
    "params = net.parameters()"
   ]
  },
  {
   "cell_type": "code",
   "execution_count": 4,
   "metadata": {},
   "outputs": [
    {
     "data": {
      "text/plain": [
       "Parameter containing:\n",
       "tensor([[-0.0053, -0.2688, -0.2500,  0.2547, -0.0331, -0.2060, -0.1798, -0.1644,\n",
       "          0.2731, -0.1672],\n",
       "        [-0.0105,  0.2532,  0.1932,  0.1279, -0.0585, -0.2119, -0.1132,  0.2680,\n",
       "          0.1519,  0.2612],\n",
       "        [ 0.2614, -0.0190,  0.1357,  0.2151, -0.1640, -0.2250,  0.0911,  0.1884,\n",
       "         -0.1633, -0.1808],\n",
       "        [ 0.0460, -0.1405, -0.3025, -0.3056, -0.1088,  0.1284,  0.3000, -0.1107,\n",
       "          0.0367,  0.0755],\n",
       "        [ 0.0845, -0.3000,  0.0666,  0.1791, -0.1139,  0.0707,  0.1563, -0.0166,\n",
       "          0.2621,  0.0430],\n",
       "        [ 0.1358, -0.2560,  0.1651,  0.2751, -0.0942,  0.1834, -0.0700, -0.1850,\n",
       "         -0.0859, -0.1729],\n",
       "        [-0.2302, -0.0779,  0.3085, -0.1661,  0.1191, -0.1805,  0.0731,  0.0679,\n",
       "          0.2603,  0.0940],\n",
       "        [-0.2694, -0.2155, -0.0845,  0.3019,  0.1486,  0.2191,  0.1877, -0.1678,\n",
       "          0.1364,  0.0080],\n",
       "        [-0.2938, -0.1822,  0.1818, -0.2225, -0.0695,  0.0811,  0.2484,  0.0096,\n",
       "         -0.1907, -0.1783],\n",
       "        [-0.0805,  0.0648, -0.2343,  0.1580, -0.1754, -0.0537, -0.1924,  0.1613,\n",
       "          0.2106,  0.0018],\n",
       "        [ 0.0710,  0.2738, -0.0703,  0.1335, -0.2524,  0.2521, -0.1823, -0.2547,\n",
       "         -0.0409,  0.2963],\n",
       "        [ 0.1430,  0.2218,  0.2192, -0.1370,  0.2551, -0.2944, -0.1261, -0.2279,\n",
       "          0.2012,  0.1479],\n",
       "        [ 0.0782, -0.2116, -0.0071, -0.1192,  0.0788, -0.1721, -0.0473, -0.0838,\n",
       "          0.1052, -0.0881],\n",
       "        [-0.1033,  0.1312, -0.2006, -0.1759,  0.2952,  0.1201, -0.2673,  0.0330,\n",
       "          0.3146,  0.2347],\n",
       "        [ 0.2633,  0.1636, -0.2933,  0.0659,  0.1547, -0.1442, -0.0983,  0.0887,\n",
       "         -0.1203,  0.1000],\n",
       "        [ 0.1231, -0.2213, -0.1145, -0.2908,  0.2719,  0.1522,  0.0709,  0.0912,\n",
       "         -0.1253, -0.0117],\n",
       "        [ 0.1917,  0.2821, -0.0294,  0.2560,  0.2988,  0.2485, -0.2161, -0.2304,\n",
       "          0.0294,  0.0440],\n",
       "        [-0.1284, -0.0412,  0.2051, -0.0297,  0.2208,  0.2036,  0.1844, -0.1339,\n",
       "         -0.1109,  0.3087],\n",
       "        [-0.3094,  0.1224, -0.1609, -0.0279, -0.2045,  0.0731, -0.0733, -0.0117,\n",
       "         -0.1022,  0.2212],\n",
       "        [-0.0382, -0.2955, -0.2720, -0.1102,  0.1366, -0.2407,  0.1425,  0.1829,\n",
       "          0.1981, -0.0154]], requires_grad=True)"
      ]
     },
     "execution_count": 4,
     "metadata": {},
     "output_type": "execute_result"
    }
   ],
   "source": [
    "next(params)"
   ]
  },
  {
   "cell_type": "code",
   "execution_count": 5,
   "metadata": {},
   "outputs": [],
   "source": [
    "for module_name, module in net.named_modules():\n",
    "    # skip module as itself\n",
    "    if module_name == \"\":\n",
    "        continue\n",
    "\n",
    "    named_params = dict(module.named_parameters())\n",
    "\n",
    "    for param_name, param in named_params.items():\n",
    "        # this param will be a storage for samples\n",
    "        param.requires_grad = False\n",
    "\n",
    "        # add mean and std as paramters\n",
    "        module.register_parameter(\n",
    "            param_name + \"_mean\", \n",
    "            nn.Parameter(torch.rand_like(param, requires_grad=True))\n",
    "        )\n",
    "        module.register_parameter(\n",
    "            param_name + \"_std\", \n",
    "            nn.Parameter(torch.rand_like(param, requires_grad=True))\n",
    "        )\n",
    "\n",
    "        # add forward pre hook to sample paramters for the module\n",
    "        def sample_param_prehook(cur_module: nn.Module, input, param_name=param_name) -> None:\n",
    "            param = cur_module.get_parameter(param_name)\n",
    "            param.copy_(\n",
    "                cur_module.get_parameter(param_name + \"_std\") * torch.randn_like(param) + \\\n",
    "                  cur_module.get_parameter(param_name + \"_mean\")\n",
    "            )\n",
    "            print(f\"Sampled for {param_name}\")\n",
    "\n",
    "        module.register_forward_pre_hook(sample_param_prehook)\n"
   ]
  },
  {
   "cell_type": "code",
   "execution_count": 6,
   "metadata": {},
   "outputs": [
    {
     "name": "stdout",
     "output_type": "stream",
     "text": [
      "weight\n",
      "False\n",
      "bias\n",
      "False\n",
      "weight_mean\n",
      "True\n",
      "weight_std\n",
      "True\n",
      "bias_mean\n",
      "True\n",
      "bias_std\n",
      "True\n"
     ]
    }
   ],
   "source": [
    "for name, p in net.linear_1.named_parameters():\n",
    "    print(name)\n",
    "    print(p.requires_grad)"
   ]
  },
  {
   "cell_type": "code",
   "execution_count": 7,
   "metadata": {},
   "outputs": [
    {
     "name": "stdout",
     "output_type": "stream",
     "text": [
      "linear_1.weight\n",
      "False\n",
      "linear_1.bias\n",
      "False\n",
      "linear_1.weight_mean\n",
      "True\n",
      "linear_1.weight_std\n",
      "True\n",
      "linear_1.bias_mean\n",
      "True\n",
      "linear_1.bias_std\n",
      "True\n",
      "linear_2.weight\n",
      "False\n",
      "linear_2.bias\n",
      "False\n",
      "linear_2.weight_mean\n",
      "True\n",
      "linear_2.weight_std\n",
      "True\n",
      "linear_2.bias_mean\n",
      "True\n",
      "linear_2.bias_std\n",
      "True\n"
     ]
    }
   ],
   "source": [
    "for name, p in net.named_parameters():\n",
    "    print(name)\n",
    "    print(p.requires_grad)"
   ]
  },
  {
   "cell_type": "code",
   "execution_count": 8,
   "metadata": {},
   "outputs": [
    {
     "name": "stdout",
     "output_type": "stream",
     "text": [
      "Sampled for weight\n",
      "Sampled for bias\n",
      "Sampled for weight\n",
      "Sampled for bias\n"
     ]
    },
    {
     "data": {
      "text/plain": [
       "tensor([28.7302, 15.8110, 11.7792, 24.1246, 23.4398, 29.1531, 10.5294,  6.4090,\n",
       "         9.9188,  8.4975, 22.0848, 12.5610, 11.8430, 14.7623, 12.0982, 15.4158,\n",
       "        19.2481,  8.7205, 21.6517, 12.2197], grad_fn=<ViewBackward0>)"
      ]
     },
     "execution_count": 8,
     "metadata": {},
     "output_type": "execute_result"
    }
   ],
   "source": [
    "net(torch.ones(5))"
   ]
  },
  {
   "cell_type": "code",
   "execution_count": 9,
   "metadata": {},
   "outputs": [],
   "source": [
    "from types import MethodType\n",
    "\n",
    "net._old_forward = net.forward\n",
    "\n",
    "def new_forward(self, x, num_samples: int = 1):\n",
    "    sampled_outputs = []\n",
    "    for i in range(num_samples):\n",
    "        sampled_outputs.append(self._old_forward(x))\n",
    "\n",
    "    return sampled_outputs\n",
    "\n",
    "net.forward = MethodType(new_forward, net)"
   ]
  },
  {
   "cell_type": "code",
   "execution_count": 15,
   "metadata": {},
   "outputs": [
    {
     "name": "stdout",
     "output_type": "stream",
     "text": [
      "Sampled for weight\n",
      "Sampled for bias\n",
      "Sampled for weight\n",
      "Sampled for bias\n",
      "Sampled for weight\n",
      "Sampled for bias\n",
      "Sampled for weight\n",
      "Sampled for bias\n",
      "Sampled for weight\n",
      "Sampled for bias\n",
      "Sampled for weight\n",
      "Sampled for bias\n"
     ]
    },
    {
     "data": {
      "text/plain": [
       "[tensor([ 6.5150, 14.8343, 15.1563,  9.7855, 16.7029, 12.4275, 13.6434, 11.8232,\n",
       "         18.7794, 11.2198, 18.6116, 17.9930, 23.7289, 17.5775,  8.4132, 18.4627,\n",
       "         10.6028, 33.9548, 20.1214, 13.8757], grad_fn=<ViewBackward0>),\n",
       " tensor([22.7525, 10.8335,  8.2850,  5.2818, 19.1122, 21.8927, 22.0851, 14.2603,\n",
       "         13.7619, 13.4381, 16.2655, 20.6990, 12.2032, 22.3954,  7.1262, 18.9957,\n",
       "         25.9468, 13.9817, 31.5973, 12.3743], grad_fn=<ViewBackward0>),\n",
       " tensor([ 1.7146, 19.5655,  6.6596, 12.0201,  1.5429, 14.9744, 10.6279, 20.5214,\n",
       "         14.6439, 16.6848,  4.1312,  9.1195, 15.2734, 12.6234,  9.1329, 13.3845,\n",
       "         14.0635,  7.4908, 17.8786, 13.4148], grad_fn=<ViewBackward0>)]"
      ]
     },
     "execution_count": 15,
     "metadata": {},
     "output_type": "execute_result"
    }
   ],
   "source": [
    "net.forward(torch.ones(5), 3)"
   ]
  },
  {
   "cell_type": "code",
   "execution_count": null,
   "metadata": {},
   "outputs": [],
   "source": []
  }
 ],
 "metadata": {
  "kernelspec": {
   "display_name": "base",
   "language": "python",
   "name": "python3"
  },
  "language_info": {
   "codemirror_mode": {
    "name": "ipython",
    "version": 3
   },
   "file_extension": ".py",
   "mimetype": "text/x-python",
   "name": "python",
   "nbconvert_exporter": "python",
   "pygments_lexer": "ipython3",
   "version": "3.11.5"
  }
 },
 "nbformat": 4,
 "nbformat_minor": 2
}
