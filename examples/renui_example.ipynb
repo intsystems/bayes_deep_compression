{
 "cells": [
  {
   "cell_type": "code",
   "execution_count": 3,
   "metadata": {},
   "outputs": [
    {
     "name": "stderr",
     "output_type": "stream",
     "text": [
      "/home/sasha/anaconda3/lib/python3.11/site-packages/transformers/utils/generic.py:441: UserWarning: torch.utils._pytree._register_pytree_node is deprecated. Please use torch.utils._pytree.register_pytree_node instead.\n",
      "  _torch_pytree._register_pytree_node(\n"
     ]
    }
   ],
   "source": [
    "import numpy as np\n",
    "import torch\n",
    "import pandas as pd\n",
    "import torchvision\n",
    "import matplotlib.pyplot as plt\n",
    "import torch\n",
    "import torchvision.transforms as transforms\n",
    "import torch.nn as nn \n",
    "import torch.optim as optim \n",
    "import torch.nn.functional as F\n",
    "from torch.autograd import Variable\n",
    "from tqdm.notebook import tqdm\n",
    "from typing import Optional\n",
    "import sys"
   ]
  },
  {
   "cell_type": "code",
   "execution_count": 4,
   "metadata": {},
   "outputs": [
    {
     "name": "stdout",
     "output_type": "stream",
     "text": [
      "['../', '/home/sasha/BMM/bayes_deep_compression/examples', '/home/sasha/anaconda3/lib/python311.zip', '/home/sasha/anaconda3/lib/python3.11', '/home/sasha/anaconda3/lib/python3.11/lib-dynload', '', '/home/sasha/anaconda3/lib/python3.11/site-packages']\n"
     ]
    }
   ],
   "source": [
    "sys.path.insert(0, \"../\")\n",
    "print(sys.path)"
   ]
  },
  {
   "cell_type": "code",
   "execution_count": 8,
   "metadata": {},
   "outputs": [],
   "source": [
    "\n",
    "class Classifier(nn.Module): \n",
    "    def __init__(self, classes: int = 10): \n",
    "        super().__init__() \n",
    "        self.conv1 = nn.Conv2d(1, 32, kernel_size=3, padding=1) \n",
    "        self.conv2 = nn.Conv2d(32, 64, kernel_size=3, padding=1) \n",
    "        self.pool = nn.MaxPool2d(2, 2) \n",
    "        #self.dropout1 = nn.Dropout2d(0.25) \n",
    "        #self.dropout2 = nn.Dropout2d(0.5) \n",
    "        self.fc1 = nn.Linear(64 * 7 * 7, 128) \n",
    "        self.fc2 = nn.Linear(128, classes) \n",
    "  \n",
    "    def forward(self, x): \n",
    "        x = self.pool(F.relu(self.conv1(x))) \n",
    "        #x = self.dropout1(x) \n",
    "        x = self.pool(F.relu(self.conv2(x))) \n",
    "        #x = self.dropout2(x) \n",
    "        x = x.view(-1, 64 * 7 * 7) \n",
    "        x = F.relu(self.fc1(x)) \n",
    "        x = self.fc2(x) \n",
    "        return x"
   ]
  },
  {
   "cell_type": "code",
   "execution_count": 5,
   "metadata": {},
   "outputs": [],
   "source": [
    "from src.methods.bayes.base.distribution import ParamDist"
   ]
  },
  {
   "cell_type": "code",
   "execution_count": 9,
   "metadata": {},
   "outputs": [],
   "source": [
    "from src.methods.bayes.variational.net import VarBayesModuleNet\n",
    "from src.methods.bayes.variational.net import NormalVarBayesModule\n",
    "from src.methods.bayes.variational.optimization import VarRenuiLoss"
   ]
  },
  {
   "cell_type": "code",
   "execution_count": 10,
   "metadata": {},
   "outputs": [],
   "source": [
    "from src.methods.bayes.variational.trainer import VarBayesTrainer, VarTrainerParams, Beta_Scheduler_Plato, CallbackLossAccuracy\n",
    "from src.methods.bayes.variational.trainer import Beta_Scheduler\n",
    "from src.methods.report.base import ReportChain\n",
    "from src.methods.report.variational import VarBaseReport"
   ]
  },
  {
   "cell_type": "code",
   "execution_count": 11,
   "metadata": {},
   "outputs": [
    {
     "data": {
      "text/plain": [
       "device(type='cuda')"
      ]
     },
     "execution_count": 11,
     "metadata": {},
     "output_type": "execute_result"
    }
   ],
   "source": [
    "device = torch.device(\"cuda\" if torch.cuda.is_available() else \"cpu\")\n",
    "device"
   ]
  },
  {
   "cell_type": "code",
   "execution_count": 12,
   "metadata": {},
   "outputs": [],
   "source": [
    "test_dataset = torchvision.datasets.MNIST(root='./data', train=True, download=True, transform=transforms.ToTensor())\n",
    "train_dataset = torchvision.datasets.MNIST(root='./data', train=False, download=True, transform=transforms.ToTensor())"
   ]
  },
  {
   "cell_type": "code",
   "execution_count": null,
   "metadata": {},
   "outputs": [
    {
     "name": "stdout",
     "output_type": "stream",
     "text": [
      "0.01\n"
     ]
    },
    {
     "data": {
      "application/vnd.jupyter.widget-view+json": {
       "model_id": "05b3c3f60087471b812e68480cc6d6f3",
       "version_major": 2,
       "version_minor": 0
      },
      "text/plain": [
       "  0%|          | 0/1000 [00:00<?, ?it/s]"
      ]
     },
     "metadata": {},
     "output_type": "display_data"
    },
    {
     "name": "stdout",
     "output_type": "stream",
     "text": [
      "Epoch [1/1000],Loss:4222.001953125, KL Loss: 185763.734375. FitLoss: 2539.72900390625,Accuracy:0.10428750000000002,Validation Loss:4147.40283203125,Validation Accuracy:0.112, Prune parameters: 606.0/421642,Beta: 0.01\n",
      "Epoch [2/1000],Loss:4173.61181640625, KL Loss: 185788.125. FitLoss: 2426.019775390625,Accuracy:0.11676250000000002,Validation Loss:4130.67431640625,Validation Accuracy:0.182, Prune parameters: 648.0/421642,Beta: 0.01\n",
      "Epoch [3/1000],Loss:4140.1572265625, KL Loss: 185946.3125. FitLoss: 2343.304931640625,Accuracy:0.127375,Validation Loss:4116.85107421875,Validation Accuracy:0.15, Prune parameters: 663.0/421642,Beta: 0.01\n",
      "Epoch [4/1000],Loss:4070.2421875, KL Loss: 186088.1875. FitLoss: 2271.291015625,Accuracy:0.1582125,Validation Loss:4074.47607421875,Validation Accuracy:0.357, Prune parameters: 649.0/421642,Beta: 0.01\n",
      "Epoch [5/1000],Loss:4011.5830078125, KL Loss: 186233.9375. FitLoss: 2230.14208984375,Accuracy:0.18063750000000003,Validation Loss:3951.05517578125,Validation Accuracy:0.464, Prune parameters: 599.0/421642,Beta: 0.01\n",
      "Epoch [6/1000],Loss:3863.735107421875, KL Loss: 186452.96875. FitLoss: 2167.23046875,Accuracy:0.23325,Validation Loss:3712.99365234375,Validation Accuracy:0.484, Prune parameters: 619.0/421642,Beta: 0.01\n",
      "Epoch [7/1000],Loss:3713.7099609375, KL Loss: 186590.28125. FitLoss: 2079.144287109375,Accuracy:0.27382499999999993,Validation Loss:3405.057861328125,Validation Accuracy:0.543, Prune parameters: 681.0/421642,Beta: 0.01\n",
      "Epoch [8/1000],Loss:3481.16064453125, KL Loss: 186954.296875. FitLoss: 1928.9034423828125,Accuracy:0.3589125,Validation Loss:3255.93408203125,Validation Accuracy:0.538, Prune parameters: 590.0/421642,Beta: 0.01\n",
      "Epoch [9/1000],Loss:3426.0048828125, KL Loss: 187275.109375. FitLoss: 2090.5576171875,Accuracy:0.3637375,Validation Loss:3077.723388671875,Validation Accuracy:0.575, Prune parameters: 606.0/421642,Beta: 0.01\n",
      "Epoch [10/1000],Loss:3274.734130859375, KL Loss: 187579.546875. FitLoss: 1843.2662353515625,Accuracy:0.41795,Validation Loss:2945.37939453125,Validation Accuracy:0.667, Prune parameters: 607.0/421642,Beta: 0.01\n",
      "Epoch [11/1000],Loss:3225.542236328125, KL Loss: 187783.859375. FitLoss: 1806.2784423828125,Accuracy:0.4336000000000001,Validation Loss:2922.957275390625,Validation Accuracy:0.671, Prune parameters: 562.0/421642,Beta: 0.01\n",
      "Epoch [12/1000],Loss:3120.77734375, KL Loss: 188240.96875. FitLoss: 1561.37060546875,Accuracy:0.49406249999999996,Validation Loss:2779.5107421875,Validation Accuracy:0.711, Prune parameters: 584.0/421642,Beta: 0.01\n",
      "Epoch [13/1000],Loss:2987.456787109375, KL Loss: 188456.53125. FitLoss: 1511.4234619140625,Accuracy:0.51835,Validation Loss:2769.5927734375,Validation Accuracy:0.673, Prune parameters: 587.0/421642,Beta: 0.01\n",
      "Epoch [14/1000],Loss:2992.9306640625, KL Loss: 188753.640625. FitLoss: 1673.388427734375,Accuracy:0.5083374999999999,Validation Loss:2618.42822265625,Validation Accuracy:0.782, Prune parameters: 595.0/421642,Beta: 0.01\n",
      "Epoch [15/1000],Loss:2870.5419921875, KL Loss: 189032.640625. FitLoss: 1416.650146484375,Accuracy:0.54935,Validation Loss:2607.439453125,Validation Accuracy:0.746, Prune parameters: 510.0/421642,Beta: 0.01\n",
      "Epoch [16/1000],Loss:2824.98486328125, KL Loss: 189210.796875. FitLoss: 1217.8585205078125,Accuracy:0.6080000000000003,Validation Loss:2487.3642578125,Validation Accuracy:0.822, Prune parameters: 552.0/421642,Beta: 0.01\n",
      "Epoch [17/1000],Loss:2776.66796875, KL Loss: 189450.5625. FitLoss: 1140.8145751953125,Accuracy:0.6229875000000002,Validation Loss:2512.678955078125,Validation Accuracy:0.779, Prune parameters: 514.0/421642,Beta: 0.01\n",
      "Epoch [18/1000],Loss:2656.658447265625, KL Loss: 189640.90625. FitLoss: 1078.459228515625,Accuracy:0.6436499999999999,Validation Loss:2417.444091796875,Validation Accuracy:0.844, Prune parameters: 498.0/421642,Beta: 0.01\n",
      "Epoch [19/1000],Loss:2624.74169921875, KL Loss: 189878.3125. FitLoss: 959.1163330078125,Accuracy:0.676125,Validation Loss:2350.83251953125,Validation Accuracy:0.862, Prune parameters: 488.0/421642,Beta: 0.01\n",
      "Epoch [20/1000],Loss:2607.234130859375, KL Loss: 189972.421875. FitLoss: 968.3916015625,Accuracy:0.6901000000000002,Validation Loss:2401.789306640625,Validation Accuracy:0.825, Prune parameters: 497.0/421642,Beta: 0.01\n",
      "Epoch [21/1000],Loss:2620.041259765625, KL Loss: 190250.578125. FitLoss: 1021.3955078125,Accuracy:0.675575,Validation Loss:2366.509521484375,Validation Accuracy:0.844, Prune parameters: 528.0/421642,Beta: 0.01\n",
      "Epoch [22/1000],Loss:2552.29296875, KL Loss: 190521.84375. FitLoss: 918.573974609375,Accuracy:0.703225,Validation Loss:2283.887451171875,Validation Accuracy:0.887, Prune parameters: 499.0/421642,Beta: 0.01\n",
      "Epoch [23/1000],Loss:2522.80078125, KL Loss: 190544.0625. FitLoss: 847.8858642578125,Accuracy:0.7181250000000001,Validation Loss:2288.06689453125,Validation Accuracy:0.886, Prune parameters: 516.0/421642,Beta: 0.01\n",
      "Epoch [24/1000],Loss:2481.589599609375, KL Loss: 190845.3125. FitLoss: 814.730712890625,Accuracy:0.7367250000000002,Validation Loss:2280.910888671875,Validation Accuracy:0.866, Prune parameters: 471.0/421642,Beta: 0.01\n",
      "Epoch [25/1000],Loss:2475.2041015625, KL Loss: 190973.53125. FitLoss: 773.039794921875,Accuracy:0.7452124999999996,Validation Loss:2238.65185546875,Validation Accuracy:0.898, Prune parameters: 504.0/421642,Beta: 0.01\n",
      "Epoch [26/1000],Loss:2411.22119140625, KL Loss: 191141.40625. FitLoss: 687.5726928710938,Accuracy:0.7690124999999999,Validation Loss:2228.859375,Validation Accuracy:0.904, Prune parameters: 489.0/421642,Beta: 0.01\n",
      "Epoch [27/1000],Loss:2391.86474609375, KL Loss: 191279.109375. FitLoss: 671.1703491210938,Accuracy:0.7779000000000001,Validation Loss:2201.52490234375,Validation Accuracy:0.913, Prune parameters: 486.0/421642,Beta: 0.01\n",
      "Epoch [28/1000],Loss:2360.720947265625, KL Loss: 191380.6875. FitLoss: 608.2471313476562,Accuracy:0.799825,Validation Loss:2178.57861328125,Validation Accuracy:0.919, Prune parameters: 529.0/421642,Beta: 0.01\n",
      "Epoch [29/1000],Loss:2358.77783203125, KL Loss: 191533.65625. FitLoss: 607.7843627929688,Accuracy:0.8006249999999998,Validation Loss:2161.358154296875,Validation Accuracy:0.93, Prune parameters: 522.0/421642,Beta: 0.01\n",
      "Epoch [30/1000],Loss:2370.356689453125, KL Loss: 191767.25. FitLoss: 637.14892578125,Accuracy:0.792225,Validation Loss:2173.12451171875,Validation Accuracy:0.921, Prune parameters: 486.0/421642,Beta: 0.01\n",
      "Epoch [31/1000],Loss:2324.341064453125, KL Loss: 191928.109375. FitLoss: 539.8099365234375,Accuracy:0.8230749999999999,Validation Loss:2169.7138671875,Validation Accuracy:0.922, Prune parameters: 490.0/421642,Beta: 0.01\n",
      "Epoch [32/1000],Loss:2301.4482421875, KL Loss: 191997.921875. FitLoss: 558.2149658203125,Accuracy:0.8162875000000003,Validation Loss:2158.6767578125,Validation Accuracy:0.926, Prune parameters: 496.0/421642,Beta: 0.01\n",
      "Epoch [33/1000],Loss:2294.21240234375, KL Loss: 192220.359375. FitLoss: 513.0135498046875,Accuracy:0.8306125,Validation Loss:2126.648193359375,Validation Accuracy:0.936, Prune parameters: 485.0/421642,Beta: 0.01\n",
      "Epoch [34/1000],Loss:2295.506591796875, KL Loss: 192232.390625. FitLoss: 499.78826904296875,Accuracy:0.8355500000000002,Validation Loss:2128.598388671875,Validation Accuracy:0.935, Prune parameters: 472.0/421642,Beta: 0.01\n",
      "Epoch [35/1000],Loss:2267.83056640625, KL Loss: 192478.75. FitLoss: 452.0876770019531,Accuracy:0.8503624999999999,Validation Loss:2114.414306640625,Validation Accuracy:0.946, Prune parameters: 470.0/421642,Beta: 0.01\n",
      "Epoch [36/1000],Loss:2238.136474609375, KL Loss: 192574.015625. FitLoss: 428.3187255859375,Accuracy:0.8603499999999997,Validation Loss:2129.114013671875,Validation Accuracy:0.938, Prune parameters: 458.0/421642,Beta: 0.01\n",
      "Epoch [37/1000],Loss:2243.79638671875, KL Loss: 192750.40625. FitLoss: 443.19158935546875,Accuracy:0.8554499999999996,Validation Loss:2129.75732421875,Validation Accuracy:0.929, Prune parameters: 445.0/421642,Beta: 0.01\n",
      "Epoch [38/1000],Loss:2234.57177734375, KL Loss: 192848.875. FitLoss: 435.6719665527344,Accuracy:0.8576875000000003,Validation Loss:2106.00244140625,Validation Accuracy:0.946, Prune parameters: 436.0/421642,Beta: 0.01\n",
      "Epoch [39/1000],Loss:2212.359375, KL Loss: 192940.921875. FitLoss: 390.0690002441406,Accuracy:0.8720374999999999,Validation Loss:2084.578857421875,Validation Accuracy:0.949, Prune parameters: 442.0/421642,Beta: 0.01\n",
      "Epoch [40/1000],Loss:2202.376953125, KL Loss: 193172.609375. FitLoss: 390.74755859375,Accuracy:0.8716874999999996,Validation Loss:2088.490966796875,Validation Accuracy:0.952, Prune parameters: 457.0/421642,Beta: 0.01\n",
      "Epoch [41/1000],Loss:2195.438232421875, KL Loss: 193281.953125. FitLoss: 363.5498046875,Accuracy:0.8818624999999995,Validation Loss:2086.40576171875,Validation Accuracy:0.95, Prune parameters: 475.0/421642,Beta: 0.01\n",
      "Epoch [42/1000],Loss:2209.477783203125, KL Loss: 193368.515625. FitLoss: 371.81280517578125,Accuracy:0.8793750000000002,Validation Loss:2084.80224609375,Validation Accuracy:0.946, Prune parameters: 461.0/421642,Beta: 0.01\n",
      "Epoch [43/1000],Loss:2190.052734375, KL Loss: 193591.3125. FitLoss: 347.21099853515625,Accuracy:0.8885124999999998,Validation Loss:2074.4189453125,Validation Accuracy:0.953, Prune parameters: 457.0/421642,Beta: 0.01\n",
      "Epoch [44/1000],Loss:2178.300537109375, KL Loss: 193712.4375. FitLoss: 339.85955810546875,Accuracy:0.8883874999999998,Validation Loss:2072.0390625,Validation Accuracy:0.954, Prune parameters: 440.0/421642,Beta: 0.01\n",
      "Epoch [45/1000],Loss:2167.389892578125, KL Loss: 193767.171875. FitLoss: 325.4353332519531,Accuracy:0.8928625000000002,Validation Loss:2063.298828125,Validation Accuracy:0.959, Prune parameters: 439.0/421642,Beta: 0.01\n",
      "Epoch [46/1000],Loss:2158.9169921875, KL Loss: 193978.71875. FitLoss: 309.8290710449219,Accuracy:0.8998125000000003,Validation Loss:2086.734375,Validation Accuracy:0.948, Prune parameters: 485.0/421642,Beta: 0.01\n",
      "Epoch [47/1000],Loss:2191.654541015625, KL Loss: 194041.0625. FitLoss: 348.61322021484375,Accuracy:0.8871874999999999,Validation Loss:2085.189453125,Validation Accuracy:0.955, Prune parameters: 443.0/421642,Beta: 0.01\n",
      "Epoch [48/1000],Loss:2169.0390625, KL Loss: 194195.109375. FitLoss: 330.4977722167969,Accuracy:0.8929375000000002,Validation Loss:2075.512939453125,Validation Accuracy:0.952, Prune parameters: 461.0/421642,Beta: 0.01\n",
      "Epoch [49/1000],Loss:2154.976318359375, KL Loss: 194356.125. FitLoss: 283.5928039550781,Accuracy:0.9067500000000003,Validation Loss:2063.847412109375,Validation Accuracy:0.959, Prune parameters: 443.0/421642,Beta: 0.01\n",
      "Epoch [50/1000],Loss:2149.64990234375, KL Loss: 194466.53125. FitLoss: 285.1705322265625,Accuracy:0.9062125000000002,Validation Loss:2068.587890625,Validation Accuracy:0.957, Prune parameters: 420.0/421642,Beta: 0.01\n",
      "Epoch [51/1000],Loss:2127.97119140625, KL Loss: 194554.578125. FitLoss: 268.90167236328125,Accuracy:0.9110625000000004,Validation Loss:2042.217529296875,Validation Accuracy:0.968, Prune parameters: 438.0/421642,Beta: 0.01\n",
      "Epoch [52/1000],Loss:2128.879638671875, KL Loss: 194712.65625. FitLoss: 253.9505615234375,Accuracy:0.9176500000000001,Validation Loss:2045.5028076171875,Validation Accuracy:0.968, Prune parameters: 422.0/421642,Beta: 0.01\n",
      "Epoch [53/1000],Loss:2117.02197265625, KL Loss: 194784.75. FitLoss: 237.62643432617188,Accuracy:0.9222750000000002,Validation Loss:2058.89013671875,Validation Accuracy:0.963, Prune parameters: 433.0/421642,Beta: 0.01\n",
      "Epoch [54/1000],Loss:2125.978759765625, KL Loss: 194915.234375. FitLoss: 242.5950164794922,Accuracy:0.9191749999999997,Validation Loss:2047.326904296875,Validation Accuracy:0.968, Prune parameters: 438.0/421642,Beta: 0.01\n"
     ]
    }
   ],
   "source": [
    "BATCH_SIZE=1000\n",
    "EPOCHS=1000\n",
    "LR = 1e-3 #5e-4\n",
    "# Split the training set into training and validation sets \n",
    "VAL_PERCENT = 0.2 # percentage of the data used for validation \n",
    "SAMPLES = 10\n",
    "BETA = 1e-2 #5e-5 #len(train_dataset) *1. / BATCH_SIZE\n",
    "BETA_FAC = 5e-1\n",
    "PRUNE = -5#1.99, 2.1\n",
    "PLATO_TOL = 20\n",
    "\n",
    "base_module = Classifier()\n",
    "var_module = NormalVarBayesModule(base_module)\n",
    "model = VarBayesModuleNet(base_module, nn.ModuleList([var_module]))\n",
    "\n",
    "\n",
    "optimizer = optim.Adam(model.parameters(), lr=LR)\n",
    "\n",
    "fit_loss = nn.CrossEntropyLoss(reduction=\"sum\") \n",
    "kl_loss = VarRenuiLoss()\n",
    "beta = BETA#len(train_dataset) *1. / BATCH_SIZE\n",
    "print(beta)\n",
    "#beta = Beta_Scheduler(beta=(len(train_dataset) *1. / BATCH_SIZE))\n",
    "\n",
    "# beta_KL = Beta_Scheduler_Plato(beta.beta, 1 / BETA_FAC, PLATO_TOL, ref = beta, threshold=1e-4)\n",
    "\n",
    "#Данная функция будет выполнятся после каждого шага тренера, соответсвенно нам требуется сделать шаг планировщика и изменить соотвествующий коэффициент\n",
    "    \n",
    "#print(model.base_module.state_dict().keys())\n",
    "val_size    = int(VAL_PERCENT * len(train_dataset)) \n",
    "train_size  = len(train_dataset) - val_size \n",
    "\n",
    "t_dataset, v_dataset = torch.utils.data.random_split(train_dataset,  \n",
    "                                                        [train_size,  \n",
    "                                                            val_size]) \n",
    "\n",
    "# Create DataLoaders for the training and validation sets \n",
    "train_loader = torch.utils.data.DataLoader(t_dataset,  \n",
    "                                        batch_size=BATCH_SIZE,  \n",
    "                                        shuffle=True, \n",
    "                                        pin_memory=True) \n",
    "\n",
    "eval_loader = torch.utils.data.DataLoader(v_dataset,  \n",
    "                                        batch_size=BATCH_SIZE,  \n",
    "                                        shuffle=False, \n",
    "                                        pin_memory=True)\n",
    "\n",
    "model.to(device) \n",
    "train_params = VarTrainerParams(EPOCHS, optimizer,fit_loss, kl_loss, SAMPLES, PRUNE, beta, {'accuracy': CallbackLossAccuracy()})\n",
    "#trainer = VarBayesTrainer(train_params, ReportChain([VarBaseReport()]), train_loader, eval_loader, [post_train_step])\n",
    "trainer = VarBayesTrainer(train_params, ReportChain([VarBaseReport()]), train_loader, eval_loader)\n",
    "trainer.train(model)"
   ]
  }
 ],
 "metadata": {
  "kernelspec": {
   "display_name": "base",
   "language": "python",
   "name": "python3"
  },
  "language_info": {
   "codemirror_mode": {
    "name": "ipython",
    "version": 3
   },
   "file_extension": ".py",
   "mimetype": "text/x-python",
   "name": "python",
   "nbconvert_exporter": "python",
   "pygments_lexer": "ipython3",
   "version": "3.11.6"
  }
 },
 "nbformat": 4,
 "nbformat_minor": 2
}
