{
 "cells": [
  {
   "cell_type": "code",
   "execution_count": 1,
   "metadata": {},
   "outputs": [],
   "source": [
    "%load_ext autoreload\n",
    "%autoreload 2\n",
    "\n",
    "from torch.utils.data import Dataset, DataLoader\n",
    "from utils.data_loader import load_dataset\n",
    "import torch\n",
    "\n",
    "train_data, train_labels, test_data, test_labels = load_dataset(\"mnist\", flatten=False, binarize=True, with_targets=True)"
   ]
  },
  {
   "cell_type": "code",
   "execution_count": 3,
   "metadata": {},
   "outputs": [],
   "source": [
    "# set parameters for dataloader\n",
    "device = \"cpu\"\n",
    "use_cuda = False\n",
    "if torch.cuda.is_available():\n",
    "    device = \"cuda\"\n",
    "    use_cuda = True\n",
    "batch_size = 512"
   ]
  },
  {
   "cell_type": "code",
   "execution_count": 4,
   "metadata": {},
   "outputs": [],
   "source": [
    "class MyDataset(Dataset):\n",
    "    def __init__(self, x, y):\n",
    "        self.x = torch.tensor(x)\n",
    "        self.y = torch.tensor(y)\n",
    "    def __len__(self):\n",
    "        return len(self.x)\n",
    "    def __getitem__(self, i):\n",
    "        return self.x[i], self.y[i]\n",
    "    \n",
    "train_dataset = MyDataset(train_data, train_labels)\n",
    "test_dataset = MyDataset(test_data, test_labels)\n",
    "\n",
    "if use_cuda:\n",
    "    trainloader = DataLoader(train_dataset, batch_size=batch_size, shuffle=True, pin_memory=True,\n",
    "                                              num_workers=3)\n",
    "    valloader = DataLoader(test_dataset, batch_size=batch_size, shuffle=False, pin_memory=True,\n",
    "                                            num_workers=3)\n",
    "else:\n",
    "    trainloader = DataLoader(train_dataset, batch_size=batch_size, shuffle=True, pin_memory=False,\n",
    "                                            )\n",
    "    valloader = DataLoader(test_dataset, batch_size=batch_size, shuffle=False, pin_memory=False,\n",
    "                                            )"
   ]
  },
  {
   "cell_type": "markdown",
   "metadata": {},
   "source": [
    "пока сделаем тупую модель, которая будет работать с плоскими картинками"
   ]
  },
  {
   "cell_type": "code",
   "execution_count": 5,
   "metadata": {},
   "outputs": [
    {
     "name": "stdout",
     "output_type": "stream",
     "text": [
      "The autoreload extension is already loaded. To reload it, use:\n",
      "  %reload_ext autoreload\n",
      "Start of the training\n"
     ]
    },
    {
     "data": {
      "application/vnd.jupyter.widget-view+json": {
       "model_id": "85c81d8f5a7642498b674eb9136563dc",
       "version_major": 2,
       "version_minor": 0
      },
      "text/plain": [
       "Training epoch 1:   0%|          | 0/118 [00:00<?, ?it/s]"
      ]
     },
     "metadata": {},
     "output_type": "display_data"
    },
    {
     "ename": "KeyboardInterrupt",
     "evalue": "",
     "output_type": "error",
     "traceback": [
      "\u001b[0;31m---------------------------------------------------------------------------\u001b[0m",
      "\u001b[0;31mKeyboardInterrupt\u001b[0m                         Traceback (most recent call last)",
      "Cell \u001b[0;32mIn[5], line 30\u001b[0m\n\u001b[1;32m     26\u001b[0m loss \u001b[38;5;241m=\u001b[39m bnn\u001b[38;5;241m.\u001b[39mloss_new\u001b[38;5;241m.\u001b[39mRenuiLoss(data_loss\u001b[38;5;241m=\u001b[39m data_loss,batches_count\u001b[38;5;241m=\u001b[39m M, alpha\u001b[38;5;241m=\u001b[39m \u001b[38;5;241m-\u001b[39m\u001b[38;5;241m100\u001b[39m)\n\u001b[1;32m     28\u001b[0m opt \u001b[38;5;241m=\u001b[39m torch\u001b[38;5;241m.\u001b[39moptim\u001b[38;5;241m.\u001b[39mAdam(model\u001b[38;5;241m.\u001b[39mparameters()) \u001b[38;5;66;03m#, lr = 0.01) #, lr=0.001)\u001b[39;00m\n\u001b[0;32m---> 30\u001b[0m train_losses, test_losses \u001b[38;5;241m=\u001b[39m \u001b[43mtrain_model\u001b[49m\u001b[43m(\u001b[49m\u001b[43mmodel\u001b[49m\u001b[43m,\u001b[49m\u001b[43mloss\u001b[49m\u001b[43m \u001b[49m\u001b[38;5;241;43m=\u001b[39;49m\u001b[43m \u001b[49m\u001b[43mloss\u001b[49m\u001b[43m,\u001b[49m\u001b[43m \u001b[49m\u001b[43mdevice\u001b[49m\u001b[43m \u001b[49m\u001b[38;5;241;43m=\u001b[39;49m\u001b[43m \u001b[49m\u001b[43mdevice\u001b[49m\u001b[43m,\u001b[49m\u001b[43m \u001b[49m\u001b[43mtrain_loader\u001b[49m\u001b[38;5;241;43m=\u001b[39;49m\u001b[43mtrainloader\u001b[49m\u001b[43m,\u001b[49m\u001b[43m \u001b[49m\u001b[43mn_samples\u001b[49m\u001b[43m \u001b[49m\u001b[38;5;241;43m=\u001b[39;49m\u001b[43m \u001b[49m\u001b[43mn_samples\u001b[49m\u001b[43m,\u001b[49m\n\u001b[1;32m     31\u001b[0m \u001b[43m                                \u001b[49m\u001b[43mtest_loader\u001b[49m\u001b[38;5;241;43m=\u001b[39;49m\u001b[43mvalloader\u001b[49m\u001b[43m,\u001b[49m\u001b[43m \u001b[49m\u001b[43mepochs\u001b[49m\u001b[38;5;241;43m=\u001b[39;49m\u001b[43mepochs\u001b[49m\u001b[43m,\u001b[49m\n\u001b[1;32m     32\u001b[0m \u001b[43m            \u001b[49m\u001b[43moptimizer\u001b[49m\u001b[38;5;241;43m=\u001b[39;49m\u001b[43m \u001b[49m\u001b[43mopt\u001b[49m\u001b[43m,\u001b[49m\u001b[43m \u001b[49m\u001b[43mloss_key\u001b[49m\u001b[38;5;241;43m=\u001b[39;49m\u001b[43m \u001b[49m\u001b[38;5;124;43m'\u001b[39;49m\u001b[38;5;124;43mtotal_loss\u001b[39;49m\u001b[38;5;124;43m'\u001b[39;49m\u001b[43m,\u001b[49m\u001b[43m \u001b[49m\u001b[43mvisualize_samples\u001b[49m\u001b[38;5;241;43m=\u001b[39;49m\u001b[38;5;28;43;01mTrue\u001b[39;49;00m\u001b[43m,\u001b[49m\u001b[43m \u001b[49m\u001b[43mlogscale_y\u001b[49m\u001b[38;5;241;43m=\u001b[39;49m\u001b[43m \u001b[49m\u001b[38;5;28;43;01mTrue\u001b[39;49;00m\u001b[43m)\u001b[49m\n",
      "File \u001b[0;32m~/my_files/work/bayes_deep_compression/bayess/training.py:97\u001b[0m, in \u001b[0;36mtrain_model\u001b[0;34m(model, loss, train_loader, test_loader, epochs, optimizer, scheduler, device, loss_key, n_samples, visualize_samples, logscale_y, logscale_x)\u001b[0m\n\u001b[1;32m     94\u001b[0m \u001b[38;5;28mprint\u001b[39m(\u001b[38;5;124m\"\u001b[39m\u001b[38;5;124mStart of the training\u001b[39m\u001b[38;5;124m\"\u001b[39m)\n\u001b[1;32m     96\u001b[0m \u001b[38;5;28;01mfor\u001b[39;00m epoch \u001b[38;5;129;01min\u001b[39;00m \u001b[38;5;28mrange\u001b[39m(\u001b[38;5;241m1\u001b[39m, epochs \u001b[38;5;241m+\u001b[39m \u001b[38;5;241m1\u001b[39m):\n\u001b[0;32m---> 97\u001b[0m     train_loss \u001b[38;5;241m=\u001b[39m \u001b[43mtrain_epoch\u001b[49m\u001b[43m(\u001b[49m\n\u001b[1;32m     98\u001b[0m \u001b[43m        \u001b[49m\u001b[43mepoch\u001b[49m\u001b[43m,\u001b[49m\u001b[43m \u001b[49m\u001b[43mmodel\u001b[49m\u001b[43m,\u001b[49m\u001b[43mloss\u001b[49m\u001b[43m,\u001b[49m\u001b[43m \u001b[49m\u001b[43mtrain_loader\u001b[49m\u001b[43m,\u001b[49m\u001b[43m \u001b[49m\u001b[43moptimizer\u001b[49m\u001b[43m,\u001b[49m\u001b[43m \u001b[49m\u001b[43mdevice\u001b[49m\u001b[43m,\u001b[49m\u001b[43m \u001b[49m\u001b[43mloss_key\u001b[49m\u001b[43m,\u001b[49m\u001b[43m \u001b[49m\u001b[43mn_samples\u001b[49m\n\u001b[1;32m     99\u001b[0m \u001b[43m    \u001b[49m\u001b[43m)\u001b[49m\n\u001b[1;32m    100\u001b[0m     \u001b[38;5;28;01mif\u001b[39;00m scheduler \u001b[38;5;129;01mis\u001b[39;00m \u001b[38;5;129;01mnot\u001b[39;00m \u001b[38;5;28;01mNone\u001b[39;00m:\n\u001b[1;32m    101\u001b[0m         scheduler\u001b[38;5;241m.\u001b[39mstep()\n",
      "File \u001b[0;32m~/my_files/work/bayes_deep_compression/bayess/training.py:37\u001b[0m, in \u001b[0;36mtrain_epoch\u001b[0;34m(epoch, model, loss, train_loader, optimizer, device, loss_key, n_samples)\u001b[0m\n\u001b[1;32m     35\u001b[0m outputs \u001b[38;5;241m=\u001b[39m []\n\u001b[1;32m     36\u001b[0m \u001b[38;5;28;01mfor\u001b[39;00m _ \u001b[38;5;129;01min\u001b[39;00m \u001b[38;5;28mrange\u001b[39m(n_samples):\n\u001b[0;32m---> 37\u001b[0m     output \u001b[38;5;241m=\u001b[39m \u001b[43mmodel\u001b[49m\u001b[43m(\u001b[49m\u001b[43mx\u001b[49m\u001b[43m)\u001b[49m\n\u001b[1;32m     38\u001b[0m     outputs\u001b[38;5;241m.\u001b[39mappend(output)\n\u001b[1;32m     40\u001b[0m losses \u001b[38;5;241m=\u001b[39m loss(outputs, y)\n",
      "File \u001b[0;32m~/miniconda3/envs/DL/lib/python3.12/site-packages/torch/nn/modules/module.py:1736\u001b[0m, in \u001b[0;36mModule._wrapped_call_impl\u001b[0;34m(self, *args, **kwargs)\u001b[0m\n\u001b[1;32m   1734\u001b[0m     \u001b[38;5;28;01mreturn\u001b[39;00m \u001b[38;5;28mself\u001b[39m\u001b[38;5;241m.\u001b[39m_compiled_call_impl(\u001b[38;5;241m*\u001b[39margs, \u001b[38;5;241m*\u001b[39m\u001b[38;5;241m*\u001b[39mkwargs)  \u001b[38;5;66;03m# type: ignore[misc]\u001b[39;00m\n\u001b[1;32m   1735\u001b[0m \u001b[38;5;28;01melse\u001b[39;00m:\n\u001b[0;32m-> 1736\u001b[0m     \u001b[38;5;28;01mreturn\u001b[39;00m \u001b[38;5;28;43mself\u001b[39;49m\u001b[38;5;241;43m.\u001b[39;49m\u001b[43m_call_impl\u001b[49m\u001b[43m(\u001b[49m\u001b[38;5;241;43m*\u001b[39;49m\u001b[43margs\u001b[49m\u001b[43m,\u001b[49m\u001b[43m \u001b[49m\u001b[38;5;241;43m*\u001b[39;49m\u001b[38;5;241;43m*\u001b[39;49m\u001b[43mkwargs\u001b[49m\u001b[43m)\u001b[49m\n",
      "File \u001b[0;32m~/miniconda3/envs/DL/lib/python3.12/site-packages/torch/nn/modules/module.py:1747\u001b[0m, in \u001b[0;36mModule._call_impl\u001b[0;34m(self, *args, **kwargs)\u001b[0m\n\u001b[1;32m   1742\u001b[0m \u001b[38;5;66;03m# If we don't have any hooks, we want to skip the rest of the logic in\u001b[39;00m\n\u001b[1;32m   1743\u001b[0m \u001b[38;5;66;03m# this function, and just call forward.\u001b[39;00m\n\u001b[1;32m   1744\u001b[0m \u001b[38;5;28;01mif\u001b[39;00m \u001b[38;5;129;01mnot\u001b[39;00m (\u001b[38;5;28mself\u001b[39m\u001b[38;5;241m.\u001b[39m_backward_hooks \u001b[38;5;129;01mor\u001b[39;00m \u001b[38;5;28mself\u001b[39m\u001b[38;5;241m.\u001b[39m_backward_pre_hooks \u001b[38;5;129;01mor\u001b[39;00m \u001b[38;5;28mself\u001b[39m\u001b[38;5;241m.\u001b[39m_forward_hooks \u001b[38;5;129;01mor\u001b[39;00m \u001b[38;5;28mself\u001b[39m\u001b[38;5;241m.\u001b[39m_forward_pre_hooks\n\u001b[1;32m   1745\u001b[0m         \u001b[38;5;129;01mor\u001b[39;00m _global_backward_pre_hooks \u001b[38;5;129;01mor\u001b[39;00m _global_backward_hooks\n\u001b[1;32m   1746\u001b[0m         \u001b[38;5;129;01mor\u001b[39;00m _global_forward_hooks \u001b[38;5;129;01mor\u001b[39;00m _global_forward_pre_hooks):\n\u001b[0;32m-> 1747\u001b[0m     \u001b[38;5;28;01mreturn\u001b[39;00m \u001b[43mforward_call\u001b[49m\u001b[43m(\u001b[49m\u001b[38;5;241;43m*\u001b[39;49m\u001b[43margs\u001b[49m\u001b[43m,\u001b[49m\u001b[43m \u001b[49m\u001b[38;5;241;43m*\u001b[39;49m\u001b[38;5;241;43m*\u001b[39;49m\u001b[43mkwargs\u001b[49m\u001b[43m)\u001b[49m\n\u001b[1;32m   1749\u001b[0m result \u001b[38;5;241m=\u001b[39m \u001b[38;5;28;01mNone\u001b[39;00m\n\u001b[1;32m   1750\u001b[0m called_always_called_hooks \u001b[38;5;241m=\u001b[39m \u001b[38;5;28mset\u001b[39m()\n",
      "File \u001b[0;32m~/miniconda3/envs/DL/lib/python3.12/site-packages/torch/nn/modules/container.py:250\u001b[0m, in \u001b[0;36mSequential.forward\u001b[0;34m(self, input)\u001b[0m\n\u001b[1;32m    248\u001b[0m \u001b[38;5;28;01mdef\u001b[39;00m \u001b[38;5;21mforward\u001b[39m(\u001b[38;5;28mself\u001b[39m, \u001b[38;5;28minput\u001b[39m):\n\u001b[1;32m    249\u001b[0m     \u001b[38;5;28;01mfor\u001b[39;00m module \u001b[38;5;129;01min\u001b[39;00m \u001b[38;5;28mself\u001b[39m:\n\u001b[0;32m--> 250\u001b[0m         \u001b[38;5;28minput\u001b[39m \u001b[38;5;241m=\u001b[39m \u001b[43mmodule\u001b[49m\u001b[43m(\u001b[49m\u001b[38;5;28;43minput\u001b[39;49m\u001b[43m)\u001b[49m\n\u001b[1;32m    251\u001b[0m     \u001b[38;5;28;01mreturn\u001b[39;00m \u001b[38;5;28minput\u001b[39m\n",
      "File \u001b[0;32m~/miniconda3/envs/DL/lib/python3.12/site-packages/torch/nn/modules/module.py:1736\u001b[0m, in \u001b[0;36mModule._wrapped_call_impl\u001b[0;34m(self, *args, **kwargs)\u001b[0m\n\u001b[1;32m   1734\u001b[0m     \u001b[38;5;28;01mreturn\u001b[39;00m \u001b[38;5;28mself\u001b[39m\u001b[38;5;241m.\u001b[39m_compiled_call_impl(\u001b[38;5;241m*\u001b[39margs, \u001b[38;5;241m*\u001b[39m\u001b[38;5;241m*\u001b[39mkwargs)  \u001b[38;5;66;03m# type: ignore[misc]\u001b[39;00m\n\u001b[1;32m   1735\u001b[0m \u001b[38;5;28;01melse\u001b[39;00m:\n\u001b[0;32m-> 1736\u001b[0m     \u001b[38;5;28;01mreturn\u001b[39;00m \u001b[38;5;28;43mself\u001b[39;49m\u001b[38;5;241;43m.\u001b[39;49m\u001b[43m_call_impl\u001b[49m\u001b[43m(\u001b[49m\u001b[38;5;241;43m*\u001b[39;49m\u001b[43margs\u001b[49m\u001b[43m,\u001b[49m\u001b[43m \u001b[49m\u001b[38;5;241;43m*\u001b[39;49m\u001b[38;5;241;43m*\u001b[39;49m\u001b[43mkwargs\u001b[49m\u001b[43m)\u001b[49m\n",
      "File \u001b[0;32m~/miniconda3/envs/DL/lib/python3.12/site-packages/torch/nn/modules/module.py:1747\u001b[0m, in \u001b[0;36mModule._call_impl\u001b[0;34m(self, *args, **kwargs)\u001b[0m\n\u001b[1;32m   1742\u001b[0m \u001b[38;5;66;03m# If we don't have any hooks, we want to skip the rest of the logic in\u001b[39;00m\n\u001b[1;32m   1743\u001b[0m \u001b[38;5;66;03m# this function, and just call forward.\u001b[39;00m\n\u001b[1;32m   1744\u001b[0m \u001b[38;5;28;01mif\u001b[39;00m \u001b[38;5;129;01mnot\u001b[39;00m (\u001b[38;5;28mself\u001b[39m\u001b[38;5;241m.\u001b[39m_backward_hooks \u001b[38;5;129;01mor\u001b[39;00m \u001b[38;5;28mself\u001b[39m\u001b[38;5;241m.\u001b[39m_backward_pre_hooks \u001b[38;5;129;01mor\u001b[39;00m \u001b[38;5;28mself\u001b[39m\u001b[38;5;241m.\u001b[39m_forward_hooks \u001b[38;5;129;01mor\u001b[39;00m \u001b[38;5;28mself\u001b[39m\u001b[38;5;241m.\u001b[39m_forward_pre_hooks\n\u001b[1;32m   1745\u001b[0m         \u001b[38;5;129;01mor\u001b[39;00m _global_backward_pre_hooks \u001b[38;5;129;01mor\u001b[39;00m _global_backward_hooks\n\u001b[1;32m   1746\u001b[0m         \u001b[38;5;129;01mor\u001b[39;00m _global_forward_hooks \u001b[38;5;129;01mor\u001b[39;00m _global_forward_pre_hooks):\n\u001b[0;32m-> 1747\u001b[0m     \u001b[38;5;28;01mreturn\u001b[39;00m \u001b[43mforward_call\u001b[49m\u001b[43m(\u001b[49m\u001b[38;5;241;43m*\u001b[39;49m\u001b[43margs\u001b[49m\u001b[43m,\u001b[49m\u001b[43m \u001b[49m\u001b[38;5;241;43m*\u001b[39;49m\u001b[38;5;241;43m*\u001b[39;49m\u001b[43mkwargs\u001b[49m\u001b[43m)\u001b[49m\n\u001b[1;32m   1749\u001b[0m result \u001b[38;5;241m=\u001b[39m \u001b[38;5;28;01mNone\u001b[39;00m\n\u001b[1;32m   1750\u001b[0m called_always_called_hooks \u001b[38;5;241m=\u001b[39m \u001b[38;5;28mset\u001b[39m()\n",
      "File \u001b[0;32m~/my_files/work/bayes_deep_compression/bayess/nn/net_new.py:128\u001b[0m, in \u001b[0;36mBayessMLP.forward\u001b[0;34m(self, input)\u001b[0m\n\u001b[1;32m    125\u001b[0m likelihoods \u001b[38;5;241m=\u001b[39m likelihood_handler(\u001b[38;5;241m0.\u001b[39m, \u001b[38;5;241m0.\u001b[39m)\n\u001b[1;32m    127\u001b[0m \u001b[38;5;28;01mfor\u001b[39;00m elem \u001b[38;5;129;01min\u001b[39;00m \u001b[38;5;28mself\u001b[39m\u001b[38;5;241m.\u001b[39mnet:\n\u001b[0;32m--> 128\u001b[0m     output \u001b[38;5;241m=\u001b[39m \u001b[43melem\u001b[49m\u001b[43m(\u001b[49m\u001b[38;5;28;43minput\u001b[39;49m\u001b[43m)\u001b[49m\n\u001b[1;32m    129\u001b[0m     \u001b[38;5;28;01mif\u001b[39;00m \u001b[38;5;28misinstance\u001b[39m(output, torch\u001b[38;5;241m.\u001b[39mTensor):\n\u001b[1;32m    130\u001b[0m         \u001b[38;5;28minput\u001b[39m \u001b[38;5;241m=\u001b[39m output\n",
      "File \u001b[0;32m~/miniconda3/envs/DL/lib/python3.12/site-packages/torch/nn/modules/module.py:1736\u001b[0m, in \u001b[0;36mModule._wrapped_call_impl\u001b[0;34m(self, *args, **kwargs)\u001b[0m\n\u001b[1;32m   1734\u001b[0m     \u001b[38;5;28;01mreturn\u001b[39;00m \u001b[38;5;28mself\u001b[39m\u001b[38;5;241m.\u001b[39m_compiled_call_impl(\u001b[38;5;241m*\u001b[39margs, \u001b[38;5;241m*\u001b[39m\u001b[38;5;241m*\u001b[39mkwargs)  \u001b[38;5;66;03m# type: ignore[misc]\u001b[39;00m\n\u001b[1;32m   1735\u001b[0m \u001b[38;5;28;01melse\u001b[39;00m:\n\u001b[0;32m-> 1736\u001b[0m     \u001b[38;5;28;01mreturn\u001b[39;00m \u001b[38;5;28;43mself\u001b[39;49m\u001b[38;5;241;43m.\u001b[39;49m\u001b[43m_call_impl\u001b[49m\u001b[43m(\u001b[49m\u001b[38;5;241;43m*\u001b[39;49m\u001b[43margs\u001b[49m\u001b[43m,\u001b[49m\u001b[43m \u001b[49m\u001b[38;5;241;43m*\u001b[39;49m\u001b[38;5;241;43m*\u001b[39;49m\u001b[43mkwargs\u001b[49m\u001b[43m)\u001b[49m\n",
      "File \u001b[0;32m~/miniconda3/envs/DL/lib/python3.12/site-packages/torch/nn/modules/module.py:1747\u001b[0m, in \u001b[0;36mModule._call_impl\u001b[0;34m(self, *args, **kwargs)\u001b[0m\n\u001b[1;32m   1742\u001b[0m \u001b[38;5;66;03m# If we don't have any hooks, we want to skip the rest of the logic in\u001b[39;00m\n\u001b[1;32m   1743\u001b[0m \u001b[38;5;66;03m# this function, and just call forward.\u001b[39;00m\n\u001b[1;32m   1744\u001b[0m \u001b[38;5;28;01mif\u001b[39;00m \u001b[38;5;129;01mnot\u001b[39;00m (\u001b[38;5;28mself\u001b[39m\u001b[38;5;241m.\u001b[39m_backward_hooks \u001b[38;5;129;01mor\u001b[39;00m \u001b[38;5;28mself\u001b[39m\u001b[38;5;241m.\u001b[39m_backward_pre_hooks \u001b[38;5;129;01mor\u001b[39;00m \u001b[38;5;28mself\u001b[39m\u001b[38;5;241m.\u001b[39m_forward_hooks \u001b[38;5;129;01mor\u001b[39;00m \u001b[38;5;28mself\u001b[39m\u001b[38;5;241m.\u001b[39m_forward_pre_hooks\n\u001b[1;32m   1745\u001b[0m         \u001b[38;5;129;01mor\u001b[39;00m _global_backward_pre_hooks \u001b[38;5;129;01mor\u001b[39;00m _global_backward_hooks\n\u001b[1;32m   1746\u001b[0m         \u001b[38;5;129;01mor\u001b[39;00m _global_forward_hooks \u001b[38;5;129;01mor\u001b[39;00m _global_forward_pre_hooks):\n\u001b[0;32m-> 1747\u001b[0m     \u001b[38;5;28;01mreturn\u001b[39;00m \u001b[43mforward_call\u001b[49m\u001b[43m(\u001b[49m\u001b[38;5;241;43m*\u001b[39;49m\u001b[43margs\u001b[49m\u001b[43m,\u001b[49m\u001b[43m \u001b[49m\u001b[38;5;241;43m*\u001b[39;49m\u001b[38;5;241;43m*\u001b[39;49m\u001b[43mkwargs\u001b[49m\u001b[43m)\u001b[49m\n\u001b[1;32m   1749\u001b[0m result \u001b[38;5;241m=\u001b[39m \u001b[38;5;28;01mNone\u001b[39;00m\n\u001b[1;32m   1750\u001b[0m called_always_called_hooks \u001b[38;5;241m=\u001b[39m \u001b[38;5;28mset\u001b[39m()\n",
      "File \u001b[0;32m~/my_files/work/bayes_deep_compression/bayess/nn/net_new.py:88\u001b[0m, in \u001b[0;36mBayessLinear.forward\u001b[0;34m(self, x)\u001b[0m\n\u001b[1;32m     83\u001b[0m b \u001b[38;5;241m=\u001b[39m \u001b[38;5;28mself\u001b[39m\u001b[38;5;241m.\u001b[39mb\u001b[38;5;241m.\u001b[39mrsample()\n\u001b[1;32m     85\u001b[0m rez \u001b[38;5;241m=\u001b[39m x \u001b[38;5;241m@\u001b[39m W \u001b[38;5;241m+\u001b[39m b\n\u001b[1;32m     87\u001b[0m likelihoods \u001b[38;5;241m=\u001b[39m likelihood_handler(\n\u001b[0;32m---> 88\u001b[0m         prior_likelihood\u001b[38;5;241m=\u001b[39m\u001b[38;5;28;43mself\u001b[39;49m\u001b[38;5;241;43m.\u001b[39;49m\u001b[43mW\u001b[49m\u001b[38;5;241m.\u001b[39mprior_likelihood(W)\u001b[38;5;241m.\u001b[39msum() \u001b[38;5;241m+\u001b[39m \u001b[38;5;28mself\u001b[39m\u001b[38;5;241m.\u001b[39mb\u001b[38;5;241m.\u001b[39mprior_likelihood(b)\u001b[38;5;241m.\u001b[39msum(), \\\n\u001b[1;32m     89\u001b[0m         posterior_likelihood\u001b[38;5;241m=\u001b[39m\u001b[38;5;28mself\u001b[39m\u001b[38;5;241m.\u001b[39mW\u001b[38;5;241m.\u001b[39mposterior_likelihood(W)\u001b[38;5;241m.\u001b[39msum() \u001b[38;5;241m+\u001b[39m \u001b[38;5;28mself\u001b[39m\u001b[38;5;241m.\u001b[39mb\u001b[38;5;241m.\u001b[39mposterior_likelihood(b)\u001b[38;5;241m.\u001b[39msum()\\\n\u001b[1;32m     90\u001b[0m         )\n\u001b[1;32m     92\u001b[0m \u001b[38;5;28;01mreturn\u001b[39;00m rez, likelihoods\n",
      "File \u001b[0;32m~/miniconda3/envs/DL/lib/python3.12/site-packages/torch/nn/modules/module.py:1918\u001b[0m, in \u001b[0;36mModule.__getattr__\u001b[0;34m(self, name)\u001b[0m\n\u001b[1;32m   1909\u001b[0m         \u001b[38;5;28mself\u001b[39m\u001b[38;5;241m.\u001b[39m_backward_pre_hooks \u001b[38;5;241m=\u001b[39m OrderedDict()\n\u001b[1;32m   1911\u001b[0m \u001b[38;5;66;03m# On the return type:\u001b[39;00m\n\u001b[1;32m   1912\u001b[0m \u001b[38;5;66;03m# We choose to return `Any` in the `__getattr__` type signature instead of a more strict `Union[Tensor, Module]`.\u001b[39;00m\n\u001b[1;32m   1913\u001b[0m \u001b[38;5;66;03m# This is done for better interop with various type checkers for the end users.\u001b[39;00m\n\u001b[0;32m   (...)\u001b[0m\n\u001b[1;32m   1916\u001b[0m \u001b[38;5;66;03m# See full discussion on the problems with returning `Union` here\u001b[39;00m\n\u001b[1;32m   1917\u001b[0m \u001b[38;5;66;03m# https://github.com/microsoft/pyright/issues/4213\u001b[39;00m\n\u001b[0;32m-> 1918\u001b[0m \u001b[38;5;28;01mdef\u001b[39;00m \u001b[38;5;21m__getattr__\u001b[39m(\u001b[38;5;28mself\u001b[39m, name: \u001b[38;5;28mstr\u001b[39m) \u001b[38;5;241m-\u001b[39m\u001b[38;5;241m>\u001b[39m Any:\n\u001b[1;32m   1919\u001b[0m     \u001b[38;5;28;01mif\u001b[39;00m \u001b[38;5;124m\"\u001b[39m\u001b[38;5;124m_parameters\u001b[39m\u001b[38;5;124m\"\u001b[39m \u001b[38;5;129;01min\u001b[39;00m \u001b[38;5;28mself\u001b[39m\u001b[38;5;241m.\u001b[39m\u001b[38;5;18m__dict__\u001b[39m:\n\u001b[1;32m   1920\u001b[0m         _parameters \u001b[38;5;241m=\u001b[39m \u001b[38;5;28mself\u001b[39m\u001b[38;5;241m.\u001b[39m\u001b[38;5;18m__dict__\u001b[39m[\u001b[38;5;124m\"\u001b[39m\u001b[38;5;124m_parameters\u001b[39m\u001b[38;5;124m\"\u001b[39m]\n",
      "\u001b[0;31mKeyboardInterrupt\u001b[0m: "
     ]
    }
   ],
   "source": [
    "%load_ext autoreload\n",
    "%autoreload 2\n",
    "\n",
    "import bayess\n",
    "import bayess.nn as bnn\n",
    "import torch.nn as nn\n",
    "import bayess.resulting_types\n",
    "from bayess.training import train_model\n",
    "\n",
    "model_dimentions = [28 * 28, 1024, 1024, 10]\n",
    "epochs = 20\n",
    "n_samples = 8\n",
    "\n",
    "reparametrization_fabric = bnn.reparametrizations.NormalNormalReparam.factory()\n",
    "\n",
    "model = bnn.net_new.BayessMLP(model_dimentions, reparametrization_fabric)\n",
    "\n",
    "model = nn.Sequential(\n",
    "      nn.Flatten(),\n",
    "      model\n",
    ")\n",
    "\n",
    "data_loss = nn.CrossEntropyLoss(reduction=\"sum\")\n",
    "M = len(trainloader) #len(train_dataset)/batch_size\n",
    "# loss = bnn.RenuiLoss(data_loss= data_loss,batches_count= M, alpha= -100)\n",
    "loss = bnn.loss_new.RenuiLoss(data_loss= data_loss,batches_count= M, alpha= -100)\n",
    "\n",
    "opt = torch.optim.Adam(model.parameters()) #, lr = 0.01) #, lr=0.001)\n",
    "\n",
    "train_losses, test_losses = train_model(model,loss = loss, device = device, train_loader=trainloader, n_samples = n_samples,\n",
    "                                test_loader=valloader, epochs=epochs,\n",
    "            optimizer= opt, loss_key= 'total_loss', visualize_samples=True, logscale_y= True)"
   ]
  },
  {
   "cell_type": "code",
   "execution_count": 9,
   "metadata": {},
   "outputs": [
    {
     "data": {
      "image/png": "[encoded data removed]",
      "text/plain": [
       "<Figure size 640x480 with 1 Axes>"
      ]
     },
     "metadata": {},
     "output_type": "display_data"
    },
    {
     "name": "stdout",
     "output_type": "stream",
     "text": [
      "key='kl_loss' [51942.828125, 51940.16015625, 51937.4921875, 51934.81640625, 51932.15234375]\n",
      "key='data_likelihood' [-163.528564453125, -148.8640899658203, -165.3061981201172, -129.89898681640625, -25.374832153320312]\n",
      "key='total_loss' [71106.328125, 69385.171875, 71309.3046875, 67157.3515625, 54905.765625]\n"
     ]
    },
    {
     "data": {
      "image/png": "[encoded data removed]",
      "text/plain": [
       "<Figure size 640x480 with 1 Axes>"
      ]
     },
     "metadata": {},
     "output_type": "display_data"
    },
    {
     "name": "stdout",
     "output_type": "stream",
     "text": [
      "End of the training\n"
     ]
    }
   ],
   "source": [
    "%load_ext autoreload\n",
    "%autoreload 2\n",
    "\n",
    "import bayess\n",
    "import bayess.nn as bnn\n",
    "import torch.nn as nn\n",
    "import bayess.resulting_types\n",
    "from bayess.training import train_model\n",
    "\n",
    "model_dimentions = [28 * 28, 1024, 1024, 10]\n",
    "epochs = 20\n",
    "n_samples = 8\n",
    "\n",
    "return_type = bayess.resulting_types.KLLossModelOutput\n",
    "\n",
    "model = bnn.BayessMLP(return_type, model_dimentions)\n",
    "\n",
    "model = nn.Sequential(\n",
    "      nn.Flatten(),\n",
    "      model\n",
    ")\n",
    "\n",
    "data_loss = nn.CrossEntropyLoss(reduction=\"sum\")\n",
    "M = len(train_dataset)/batch_size\n",
    "loss = bnn.KLLoss(data_loss= data_loss, beta = M)\n",
    "\n",
    "\n",
    "opt = torch.optim.Adam(model.parameters()) #, lr = 0.01) #, lr=0.001)\n",
    "\n",
    "train_losses, test_losses = train_model(model,loss = loss, device = device, train_loader=trainloader, n_samples = n_samples,\n",
    "                                test_loader=valloader, epochs=epochs,\n",
    "            optimizer= opt, loss_key= 'total_loss', visualize_samples=True, logscale_y= True)"
   ]
  },
  {
   "cell_type": "code",
   "execution_count": 10,
   "metadata": {},
   "outputs": [],
   "source": [
    "from torch.nn import functional as F\n",
    "items = []\n",
    "model_tmp = model.to(\"cpu\")\n",
    "for layer  in model_tmp[1].net:\n",
    "    if isinstance(layer, bnn.BayessLinear):\n",
    "        P_div = layer.weight_mu.detach().abs() / F.softplus(layer.weight_sigma.detach(), beta = 1, threshold = 20)\n",
    "        P_div = P_div.flatten().numpy() \n",
    "        items.append(P_div)\n",
    "        P_div = layer.bias_mu.detach().abs() / F.softplus(layer.bias_mu.detach(), beta = 1, threshold = 20)\n",
    "        P_div = P_div.flatten().numpy() \n",
    "        items.append(P_div)"
   ]
  },
  {
   "cell_type": "code",
   "execution_count": 11,
   "metadata": {},
   "outputs": [
    {
     "data": {
      "image/png": "[encoded data removed]",
      "text/plain": [
       "<Figure size 640x480 with 1 Axes>"
      ]
     },
     "metadata": {},
     "output_type": "display_data"
    },
    {
     "data": {
      "image/png": "[encoded data removed]",
      "text/plain": [
       "<Figure size 640x480 with 1 Axes>"
      ]
     },
     "metadata": {},
     "output_type": "display_data"
    }
   ],
   "source": [
    "import numpy as np\n",
    "import matplotlib.pyplot as plt\n",
    "it = np.concatenate(items)\n",
    "plt.hist(it, bins = 1100)\n",
    "plt.show()\n",
    "plt.plot(sorted(it))\n",
    "plt.yscale(\"log\")"
   ]
  },
  {
   "cell_type": "code",
   "execution_count": 12,
   "metadata": {},
   "outputs": [],
   "source": [
    "st_dct = model.state_dict()\n",
    "torch.save(st_dct, \"200_epoch_model.pt\")"
   ]
  },
  {
   "cell_type": "code",
   "execution_count": 21,
   "metadata": {},
   "outputs": [],
   "source": [
    "from bayess.nn.net import MLP\n",
    "def BayessMLP2MLP(model, threshold):\n",
    "    \"\"\"\n",
    "    zeroing partiton states how match parameters will be set to 0\n",
    "    \"\"\"\n",
    "    model_new = MLP(model.dimentions)\n",
    "    state_dict = {}\n",
    "    bayess_sd = model.state_dict()\n",
    "    for key in model_new.state_dict().keys():        \n",
    "        key_mu = key + \"_mu\"\n",
    "        key_sigma = key + \"_sigma\"        \n",
    "\n",
    "        weights = bayess_sd[key_mu].detach().clone()\n",
    "        \n",
    "        sigma_detach = torch.zeros_like(bayess_sd[key_sigma]).detach()\n",
    "        sigma_detach = F.softplus(sigma_detach, beta = 1, threshold = 20)\n",
    "        weights = weights * ((weights.abs()/sigma_detach) > threshold)\n",
    "        \n",
    "        state_dict[key] = weights.T\n",
    "    model_new.load_state_dict(state_dict=state_dict)\n",
    "    return model_new\n",
    "\n",
    "    "
   ]
  },
  {
   "cell_type": "code",
   "execution_count": 22,
   "metadata": {},
   "outputs": [
    {
     "data": {
      "text/plain": [
       "torch.Size([1000, 1, 28, 28])"
      ]
     },
     "execution_count": 22,
     "metadata": {},
     "output_type": "execute_result"
    }
   ],
   "source": [
    "xt, yt = [], []\n",
    "for i in range(1000):\n",
    "    x,y = test_dataset[i]\n",
    "    xt.append(x)\n",
    "    yt.append(y)\n",
    "xt = torch.stack(xt, )\n",
    "yt = torch.stack(yt)\n",
    "xt.shape"
   ]
  },
  {
   "cell_type": "code",
   "execution_count": 23,
   "metadata": {},
   "outputs": [
    {
     "name": "stderr",
     "output_type": "stream",
     "text": [
      "/tmp/ipykernel_79128/3038484683.py:19: UserWarning: The use of `x.T` on tensors of dimension other than 2 to reverse their shape is deprecated and it will throw an error in a future release. Consider `x.mT` to transpose batches of matrices or `x.permute(*torch.arange(x.ndim - 1, -1, -1))` to reverse the dimensions of a tensor. (Triggered internally at ../aten/src/ATen/native/TensorShape.cpp:3683.)\n",
      "  state_dict[key] = weights.T\n"
     ]
    },
    {
     "name": "stdout",
     "output_type": "stream",
     "text": [
      "q=np.float64(0.01)  params: 3690106.2:  val=6.866362475191604e-44  : acc=tensor(0.9350)\n",
      "q=np.float64(0.03512820512820513)  params: 3596443.8307692306:  val=2.6064151436441598e-43  : acc=tensor(0.9350)\n",
      "q=np.float64(0.06025641025641026)  params: 3502781.4615384615:  val=2.230163846495925e-15  : acc=tensor(0.9350)\n",
      "q=np.float64(0.08538461538461538)  params: 3409119.0923076924:  val=0.008121545426547527  : acc=tensor(0.9350)\n",
      "q=np.float64(0.1105128205128205)  params: 3315456.723076923:  val=0.022183289751410484  : acc=tensor(0.9360)\n",
      "q=np.float64(0.13564102564102565)  params: 3221794.3538461537:  val=0.03753418102860451  : acc=tensor(0.9350)\n",
      "q=np.float64(0.16076923076923078)  params: 3128131.9846153846:  val=0.053478773683309555  : acc=tensor(0.9340)\n",
      "q=np.float64(0.1858974358974359)  params: 3034469.6153846155:  val=0.0700334683060646  : acc=tensor(0.9370)\n",
      "q=np.float64(0.21102564102564103)  params: 2940807.246153846:  val=0.08709468692541122  : acc=tensor(0.9350)\n",
      "q=np.float64(0.23615384615384616)  params: 2847144.876923077:  val=0.10424479842185974  : acc=tensor(0.9310)\n",
      "q=np.float64(0.2612820512820513)  params: 2753482.5076923077:  val=0.12174290418624878  : acc=tensor(0.9320)\n",
      "q=np.float64(0.2864102564102564)  params: 2659820.1384615386:  val=0.139469176530838  : acc=tensor(0.9290)\n",
      "q=np.float64(0.31153846153846154)  params: 2566157.769230769:  val=0.15741436183452606  : acc=tensor(0.9190)\n",
      "q=np.float64(0.33666666666666667)  params: 2472495.4:  val=0.17567676305770874  : acc=tensor(0.9230)\n",
      "q=np.float64(0.3617948717948718)  params: 2378833.030769231:  val=0.19411906599998474  : acc=tensor(0.9090)\n",
      "q=np.float64(0.3869230769230769)  params: 2285170.6615384617:  val=0.21321572363376617  : acc=tensor(0.8810)\n",
      "q=np.float64(0.41205128205128205)  params: 2191508.292307692:  val=0.23259194195270538  : acc=tensor(0.8650)\n",
      "q=np.float64(0.4371794871794872)  params: 2097845.923076923:  val=0.2524058222770691  : acc=tensor(0.8220)\n",
      "q=np.float64(0.4623076923076923)  params: 2004183.553846154:  val=0.27305227518081665  : acc=tensor(0.8070)\n",
      "q=np.float64(0.48743589743589744)  params: 1910521.1846153846:  val=0.2944636940956116  : acc=tensor(0.7640)\n",
      "q=np.float64(0.5125641025641026)  params: 1816858.8153846154:  val=0.3168492913246155  : acc=tensor(0.6750)\n",
      "q=np.float64(0.5376923076923077)  params: 1723196.446153846:  val=0.3402978777885437  : acc=tensor(0.5850)\n",
      "q=np.float64(0.5628205128205128)  params: 1629534.076923077:  val=0.3647891879081726  : acc=tensor(0.4040)\n",
      "q=np.float64(0.587948717948718)  params: 1535871.7076923077:  val=0.39032217860221863  : acc=tensor(0.3110)\n",
      "q=np.float64(0.6130769230769231)  params: 1442209.3384615385:  val=0.41759249567985535  : acc=tensor(0.2470)\n",
      "q=np.float64(0.6382051282051282)  params: 1348546.9692307692:  val=0.446762353181839  : acc=tensor(0.1760)\n",
      "q=np.float64(0.6633333333333333)  params: 1254884.6:  val=0.4788588881492615  : acc=tensor(0.1440)\n",
      "q=np.float64(0.6884615384615385)  params: 1161222.2307692308:  val=0.5140749216079712  : acc=tensor(0.1280)\n",
      "q=np.float64(0.7135897435897436)  params: 1067559.8615384616:  val=0.5528749823570251  : acc=tensor(0.1850)\n",
      "q=np.float64(0.7387179487179487)  params: 973897.4923076923:  val=0.5958586931228638  : acc=tensor(0.0850)\n",
      "q=np.float64(0.7638461538461538)  params: 880235.1230769231:  val=0.6437261700630188  : acc=tensor(0.0850)\n",
      "q=np.float64(0.788974358974359)  params: 786572.7538461538:  val=0.6982735395431519  : acc=tensor(0.0850)\n",
      "q=np.float64(0.8141025641025641)  params: 692910.3846153846:  val=0.7601061463356018  : acc=tensor(0.0850)\n",
      "q=np.float64(0.8392307692307692)  params: 599248.0153846154:  val=0.8313980102539062  : acc=tensor(0.0850)\n",
      "q=np.float64(0.8643589743589744)  params: 505585.6461538462:  val=0.9148091077804565  : acc=tensor(0.0850)\n",
      "q=np.float64(0.8894871794871795)  params: 411923.27692307695:  val=1.0156524181365967  : acc=tensor(0.0850)\n",
      "q=np.float64(0.9146153846153846)  params: 318260.9076923077:  val=1.1433584690093994  : acc=tensor(0.0850)\n",
      "q=np.float64(0.9397435897435897)  params: 224598.5384615385:  val=1.3136199712753296  : acc=tensor(0.0850)\n",
      "q=np.float64(0.9648717948717949)  params: 130936.16923076926:  val=1.5697715282440186  : acc=tensor(0.0850)\n",
      "q=np.float64(0.99)  params: 37273.80000000003:  val=2.124379873275757  : acc=tensor(0.0850)\n"
     ]
    }
   ],
   "source": [
    "pytorch_total_params = sum(p.numel() for p in model.parameters())\n",
    "\n",
    "q_s = np.linspace(0.01, 0.99, 40)\n",
    "accs = []\n",
    "for q in q_s:\n",
    "    val = float(np.quantile(it, q))\n",
    "    \n",
    "    model_bias = model[1]\n",
    "    model_unb = BayessMLP2MLP(model_bias, val)\n",
    "    model_unb = nn.Sequential(\n",
    "            nn.Flatten(),\n",
    "            model_unb\n",
    "    )\n",
    "    acc = (model_unb(xt).argmax(1) == yt).float().mean()\n",
    "    accs.append(acc)\n",
    "    print(f\"{q=}  params: {pytorch_total_params * (1 - q)}:  {val=}  : {acc=}\")"
   ]
  },
  {
   "cell_type": "code",
   "execution_count": 24,
   "metadata": {},
   "outputs": [
    {
     "data": {
      "text/plain": [
       "[<matplotlib.lines.Line2D at 0x7efff94c0b30>]"
      ]
     },
     "execution_count": 24,
     "metadata": {},
     "output_type": "execute_result"
    },
    {
     "data": {
      "image/png": "[encoded data removed]",
      "text/plain": [
       "<Figure size 640x480 with 1 Axes>"
      ]
     },
     "metadata": {},
     "output_type": "display_data"
    }
   ],
   "source": [
    "to = 0\n",
    "plt.plot((1-q_s[to:]) * pytorch_total_params, accs[to:])"
   ]
  },
  {
   "cell_type": "code",
   "execution_count": null,
   "metadata": {},
   "outputs": [
    {
     "data": {
      "text/plain": [
       "[<matplotlib.lines.Line2D at 0x7fae488b7800>]"
      ]
     },
     "execution_count": 17,
     "metadata": {},
     "output_type": "execute_result"
    },
    {
     "data": {
      "image/png": "[encoded data removed]",
      "text/plain": [
       "<Figure size 640x480 with 1 Axes>"
      ]
     },
     "metadata": {},
     "output_type": "display_data"
    }
   ],
   "source": [
    "to = 0\n",
    "plt.plot((1-q_s[to:]) * pytorch_total_params, accs[to:])"
   ]
  },
  {
   "cell_type": "code",
   "execution_count": 2,
   "metadata": {},
   "outputs": [],
   "source": [
    "from torch.distributions import normal\n",
    "import torch"
   ]
  },
  {
   "cell_type": "code",
   "execution_count": 3,
   "metadata": {},
   "outputs": [],
   "source": [
    "n = 10\n",
    "loc = torch.rand((n,n), requires_grad= True)\n",
    "scale = torch.exp(torch.rand((n,n), requires_grad=True))\n",
    "distr = normal.Normal(loc=loc, scale=scale)"
   ]
  },
  {
   "cell_type": "code",
   "execution_count": 5,
   "metadata": {},
   "outputs": [
    {
     "ename": "RuntimeError",
     "evalue": "Trying to backward through the graph a second time (or directly access saved tensors after they have already been freed). Saved intermediate values of the graph are freed when you call .backward() or autograd.grad(). Specify retain_graph=True if you need to backward through the graph a second time or if you need to access saved tensors after calling backward.",
     "output_type": "error",
     "traceback": [
      "\u001b[0;31m---------------------------------------------------------------------------\u001b[0m",
      "\u001b[0;31mRuntimeError\u001b[0m                              Traceback (most recent call last)",
      "Cell \u001b[0;32mIn[5], line 5\u001b[0m\n\u001b[1;32m      1\u001b[0m \u001b[38;5;28;01mimport\u001b[39;00m \u001b[38;5;21;01mtime\u001b[39;00m\n\u001b[1;32m      4\u001b[0m a \u001b[38;5;241m=\u001b[39m distr\u001b[38;5;241m.\u001b[39mrsample()\n\u001b[0;32m----> 5\u001b[0m \u001b[43ma\u001b[49m\u001b[38;5;241;43m.\u001b[39;49m\u001b[43msum\u001b[49m\u001b[43m(\u001b[49m\u001b[43m)\u001b[49m\u001b[38;5;241;43m.\u001b[39;49m\u001b[43mbackward\u001b[49m\u001b[43m(\u001b[49m\u001b[43m)\u001b[49m\n\u001b[1;32m      6\u001b[0m a\u001b[38;5;241m.\u001b[39mgrad_fn\n",
      "File \u001b[0;32m~/miniconda3/envs/DL/lib/python3.12/site-packages/torch/_tensor.py:581\u001b[0m, in \u001b[0;36mTensor.backward\u001b[0;34m(self, gradient, retain_graph, create_graph, inputs)\u001b[0m\n\u001b[1;32m    571\u001b[0m \u001b[38;5;28;01mif\u001b[39;00m has_torch_function_unary(\u001b[38;5;28mself\u001b[39m):\n\u001b[1;32m    572\u001b[0m     \u001b[38;5;28;01mreturn\u001b[39;00m handle_torch_function(\n\u001b[1;32m    573\u001b[0m         Tensor\u001b[38;5;241m.\u001b[39mbackward,\n\u001b[1;32m    574\u001b[0m         (\u001b[38;5;28mself\u001b[39m,),\n\u001b[0;32m   (...)\u001b[0m\n\u001b[1;32m    579\u001b[0m         inputs\u001b[38;5;241m=\u001b[39minputs,\n\u001b[1;32m    580\u001b[0m     )\n\u001b[0;32m--> 581\u001b[0m \u001b[43mtorch\u001b[49m\u001b[38;5;241;43m.\u001b[39;49m\u001b[43mautograd\u001b[49m\u001b[38;5;241;43m.\u001b[39;49m\u001b[43mbackward\u001b[49m\u001b[43m(\u001b[49m\n\u001b[1;32m    582\u001b[0m \u001b[43m    \u001b[49m\u001b[38;5;28;43mself\u001b[39;49m\u001b[43m,\u001b[49m\u001b[43m \u001b[49m\u001b[43mgradient\u001b[49m\u001b[43m,\u001b[49m\u001b[43m \u001b[49m\u001b[43mretain_graph\u001b[49m\u001b[43m,\u001b[49m\u001b[43m \u001b[49m\u001b[43mcreate_graph\u001b[49m\u001b[43m,\u001b[49m\u001b[43m \u001b[49m\u001b[43minputs\u001b[49m\u001b[38;5;241;43m=\u001b[39;49m\u001b[43minputs\u001b[49m\n\u001b[1;32m    583\u001b[0m \u001b[43m\u001b[49m\u001b[43m)\u001b[49m\n",
      "File \u001b[0;32m~/miniconda3/envs/DL/lib/python3.12/site-packages/torch/autograd/__init__.py:347\u001b[0m, in \u001b[0;36mbackward\u001b[0;34m(tensors, grad_tensors, retain_graph, create_graph, grad_variables, inputs)\u001b[0m\n\u001b[1;32m    342\u001b[0m     retain_graph \u001b[38;5;241m=\u001b[39m create_graph\n\u001b[1;32m    344\u001b[0m \u001b[38;5;66;03m# The reason we repeat the same comment below is that\u001b[39;00m\n\u001b[1;32m    345\u001b[0m \u001b[38;5;66;03m# some Python versions print out the first line of a multi-line function\u001b[39;00m\n\u001b[1;32m    346\u001b[0m \u001b[38;5;66;03m# calls in the traceback and some print out the last line\u001b[39;00m\n\u001b[0;32m--> 347\u001b[0m \u001b[43m_engine_run_backward\u001b[49m\u001b[43m(\u001b[49m\n\u001b[1;32m    348\u001b[0m \u001b[43m    \u001b[49m\u001b[43mtensors\u001b[49m\u001b[43m,\u001b[49m\n\u001b[1;32m    349\u001b[0m \u001b[43m    \u001b[49m\u001b[43mgrad_tensors_\u001b[49m\u001b[43m,\u001b[49m\n\u001b[1;32m    350\u001b[0m \u001b[43m    \u001b[49m\u001b[43mretain_graph\u001b[49m\u001b[43m,\u001b[49m\n\u001b[1;32m    351\u001b[0m \u001b[43m    \u001b[49m\u001b[43mcreate_graph\u001b[49m\u001b[43m,\u001b[49m\n\u001b[1;32m    352\u001b[0m \u001b[43m    \u001b[49m\u001b[43minputs\u001b[49m\u001b[43m,\u001b[49m\n\u001b[1;32m    353\u001b[0m \u001b[43m    \u001b[49m\u001b[43mallow_unreachable\u001b[49m\u001b[38;5;241;43m=\u001b[39;49m\u001b[38;5;28;43;01mTrue\u001b[39;49;00m\u001b[43m,\u001b[49m\n\u001b[1;32m    354\u001b[0m \u001b[43m    \u001b[49m\u001b[43maccumulate_grad\u001b[49m\u001b[38;5;241;43m=\u001b[39;49m\u001b[38;5;28;43;01mTrue\u001b[39;49;00m\u001b[43m,\u001b[49m\n\u001b[1;32m    355\u001b[0m \u001b[43m\u001b[49m\u001b[43m)\u001b[49m\n",
      "File \u001b[0;32m~/miniconda3/envs/DL/lib/python3.12/site-packages/torch/autograd/graph.py:825\u001b[0m, in \u001b[0;36m_engine_run_backward\u001b[0;34m(t_outputs, *args, **kwargs)\u001b[0m\n\u001b[1;32m    823\u001b[0m     unregister_hooks \u001b[38;5;241m=\u001b[39m _register_logging_hooks_on_whole_graph(t_outputs)\n\u001b[1;32m    824\u001b[0m \u001b[38;5;28;01mtry\u001b[39;00m:\n\u001b[0;32m--> 825\u001b[0m     \u001b[38;5;28;01mreturn\u001b[39;00m \u001b[43mVariable\u001b[49m\u001b[38;5;241;43m.\u001b[39;49m\u001b[43m_execution_engine\u001b[49m\u001b[38;5;241;43m.\u001b[39;49m\u001b[43mrun_backward\u001b[49m\u001b[43m(\u001b[49m\u001b[43m  \u001b[49m\u001b[38;5;66;43;03m# Calls into the C++ engine to run the backward pass\u001b[39;49;00m\n\u001b[1;32m    826\u001b[0m \u001b[43m        \u001b[49m\u001b[43mt_outputs\u001b[49m\u001b[43m,\u001b[49m\u001b[43m \u001b[49m\u001b[38;5;241;43m*\u001b[39;49m\u001b[43margs\u001b[49m\u001b[43m,\u001b[49m\u001b[43m \u001b[49m\u001b[38;5;241;43m*\u001b[39;49m\u001b[38;5;241;43m*\u001b[39;49m\u001b[43mkwargs\u001b[49m\n\u001b[1;32m    827\u001b[0m \u001b[43m    \u001b[49m\u001b[43m)\u001b[49m  \u001b[38;5;66;03m# Calls into the C++ engine to run the backward pass\u001b[39;00m\n\u001b[1;32m    828\u001b[0m \u001b[38;5;28;01mfinally\u001b[39;00m:\n\u001b[1;32m    829\u001b[0m     \u001b[38;5;28;01mif\u001b[39;00m attach_logging_hooks:\n",
      "\u001b[0;31mRuntimeError\u001b[0m: Trying to backward through the graph a second time (or directly access saved tensors after they have already been freed). Saved intermediate values of the graph are freed when you call .backward() or autograd.grad(). Specify retain_graph=True if you need to backward through the graph a second time or if you need to access saved tensors after calling backward."
     ]
    }
   ],
   "source": [
    "import time\n",
    " \n",
    "\n",
    "a = distr.rsample()\n",
    "a.sum().backward()\n",
    "a.grad_fn"
   ]
  },
  {
   "cell_type": "code",
   "execution_count": 142,
   "metadata": {},
   "outputs": [
    {
     "data": {
      "text/plain": [
       "(tensor(1), tensor([-2.1213, -2.3692,  0.0902]))"
      ]
     },
     "execution_count": 142,
     "metadata": {},
     "output_type": "execute_result"
    }
   ],
   "source": [
    "# Construct Gaussian Mixture Model in 1D consisting of 5 equally\n",
    "# weighted normal distributions\n",
    "import torch.distributions as D\n",
    "MixtureSameFamily = D.MixtureSameFamily\n",
    "mix = D.Categorical(torch.ones(5,))\n",
    "comp = D.Normal(torch.randn(5,), torch.rand(5,))\n",
    "gmm = MixtureSameFamily(mix, comp)\n",
    "\n",
    "# Construct Gaussian Mixture Model in 2D consisting of 5 equally\n",
    "# weighted bivariate normal distributions\n",
    "mix = D.Categorical(torch.ones(2))\n",
    "comp = D.Independent(D.Normal(\n",
    "         torch.randn(2, 3), torch.rand(2, 3)), 1)\n",
    "gmm = MixtureSameFamily(mix, comp)\n",
    "mix.sample(), gmm.sample()"
   ]
  },
  {
   "cell_type": "code",
   "execution_count": 117,
   "metadata": {},
   "outputs": [
    {
     "data": {
      "text/plain": [
       "tensor([0, 0, 0, 1, 0])"
      ]
     },
     "execution_count": 117,
     "metadata": {},
     "output_type": "execute_result"
    }
   ],
   "source": [
    "mix.sample()"
   ]
  },
  {
   "cell_type": "code",
   "execution_count": 145,
   "metadata": {},
   "outputs": [
    {
     "data": {
      "text/plain": [
       "tensor([[1., 1., 1.],\n",
       "        [3., 3., 3.]])"
      ]
     },
     "execution_count": 145,
     "metadata": {},
     "output_type": "execute_result"
    }
   ],
   "source": [
    "scales = torch.zeros((2,3))\n",
    "scales[0] = 1\n",
    "scales[1] = 3\n",
    "scales"
   ]
  },
  {
   "cell_type": "code",
   "execution_count": 170,
   "metadata": {},
   "outputs": [],
   "source": [
    "from typing import Dict, Tuple, Any\n",
    "import numpy as np\n",
    "import torch\n",
    "import torch.distributions as td\n",
    "from abc import abstractmethod\n",
    "from typing import TypeVar, Generic\n",
    "from dataclasses import dataclass\n",
    "\n",
    "from torch.nn.modules import Module\n",
    "\n",
    "@dataclass\n",
    "class InitargsHandler:\n",
    "    prior_initargs: Dict[str, nn.Parameter]\n",
    "    posterior_initargs: Dict[str, nn.Parameter]\n",
    "\n",
    "\n",
    "DistributionType = TypeVar(\"DistributionType\", bound=td.distribution.Distribution)\n",
    "\n",
    "class ReparamNormal(td.Normal):\n",
    "    def __init__(self, loc: torch.Tensor, scale: torch.Tensor, validate_args=None):\n",
    "        self.loc, self._scale = loc, scale\n",
    "        batch_shape = self.loc.size()\n",
    "        td.Normal.__base__.__init__(self, batch_shape, validate_args=validate_args)\n",
    "\n",
    "    @property\n",
    "    def scale(self):\n",
    "        return F.softplus(self._scale)\n",
    "    \n",
    "    \n",
    "class BasePriorPosteriorReparam(Generic[DistributionType]):\n",
    "    PRIOR: DistributionType\n",
    "    POSTERIOR: DistributionType\n",
    "\n",
    "    @classmethod\n",
    "    def factory(cls, *args, **kwargs):\n",
    "        \"\"\"\n",
    "        this function allows to get basic factory for class instances\n",
    "        \"\"\"\n",
    "\n",
    "        def f(parameter_name, model, shape):\n",
    "            return cls(parameter_name, model, shape,*args, **kwargs)\n",
    "        return f\n",
    "    \n",
    "    def __init__(self, \n",
    "                parameter_name: str, \n",
    "                model: nn.Module, \n",
    "                shape, \n",
    "                *args, **kwargs) -> None:\n",
    "\n",
    "        initargs: InitargsHandler = self.get_initargs(shape)\n",
    "\n",
    "        self.prior: self.PRIOR = self.PRIOR(**initargs.prior_initargs)\n",
    "        self.posterior: self.PRIOR = self.POSTERIOR(**initargs.posterior_initargs)\n",
    "\n",
    "        # чтобы параметры появились в model.parameters\n",
    "        # наверное это не совсем хорошо, можно просто возвращать список параметров пользователю в модель \n",
    "        for name, val in initargs.posterior_initargs.items():\n",
    "            if isinstance(val, nn.Parameter):\n",
    "                full_name = f\"{parameter_name}_{name}\"\n",
    "                model.register_parameter(full_name, val)\n",
    "            \n",
    "        assert self.posterior.has_rsample == True, \"posterior distribution should have '.has_rsample == True'\"\n",
    "    @abstractmethod\n",
    "    def get_initargs(self, shape) ->InitargsHandler:\n",
    "        \"\"\"\n",
    "        init parameters for prior and posterior initialization\n",
    "\n",
    "        for prior parameters, set require_grad=False\n",
    "        for posterior parameters, set require_grad=True\n",
    "        \"\"\"\n",
    "\n",
    "    def get_kl(self,):\n",
    "        \"\"\"\n",
    "        this function may raise 'NotImplementedError' if there is no method registered via 'register_kl()'\n",
    "\n",
    "        More information:\n",
    "        https://pytorch.org/docs/stable/distributions.html#module-torch.distributions.kl:~:text=PROPERTY%20variance-,KL%20Divergence,-torch.distributions.kl\n",
    "        \"\"\"\n",
    "        return D.kl.kl_divergence(self.posterior, self.prior)\n",
    "    \n",
    "    def prior_likelihood(self, p: torch.tensor):\n",
    "        return self.prior.log_prob(p)\n",
    "    def posterior_likelihood(self, p: torch.tensor):\n",
    "        return self.posterior.log_prob(p)\n",
    "    def rsample(self):\n",
    "        return self.posterior.rsample()\n",
    "    \n",
    "class NormalMixNormalReparam(BasePriorPosteriorReparam):\n",
    "    PRIOR: td.MixtureSameFamily = td.MixtureSameFamily\n",
    "    POSTERIOR: DistributionType = ReparamNormal\n",
    "\n",
    "    @classmethod\n",
    "    def factory(cls, num_classes: int = 2, \n",
    "                 class_weights: torch.Tensor = torch.tensor([0.1, 0.9]), \n",
    "                 class_scales: torch.Tensor = torch.tensor([0.001, 10.])) -> None:\n",
    "        \"\"\"\n",
    "        Overrided factory function, since this Reparametrization needs hyperparameters for initialization\n",
    "        \"\"\"\n",
    "        \n",
    "        assert num_classes == len(class_weights) == len(class_scales)\n",
    "        assert torch.isclose(sum(class_weights), torch.tensor(1.))\n",
    "        assert torch.all(class_scales > 0)\n",
    "        assert torch.all(class_weights > 0)\n",
    "\n",
    "        def f(parameter_name, model, shape):\n",
    "            return cls(parameter_name, model, shape, class_scales= class_scales, class_weights=class_weights)\n",
    "        return f\n",
    "    \n",
    "    def __init__(self, parameter_name: str, model: Module, shape, class_weights, class_scales) -> None:\n",
    "        self.class_weights = class_weights\n",
    "        self.class_scales = class_scales\n",
    "        super().__init__(parameter_name, model, shape)\n",
    "\n",
    "    def get_initargs(self, shape) -> InitargsHandler:\n",
    "        \"\"\"\n",
    "        init loc and scale parameters\n",
    "\n",
    "        \"\"\"\n",
    "        loc = nn.Parameter(torch.rand(shape), requires_grad=True)\n",
    "        scale_f = nn.Parameter(torch.randn(shape), requires_grad=True)\n",
    "\n",
    "        posterior_params = {\"loc\": loc, \"scale\": scale_f}\n",
    "\n",
    "        # prior params\n",
    "\n",
    "        num_classes = len(self.class_weights)\n",
    "\n",
    "        mix = D.Categorical(self.class_weights)\n",
    "\n",
    "        scales = torch.rand(num_classes, *shape)\n",
    "        for i in range(num_classes):\n",
    "            scales[i] = self.class_scales[i]\n",
    "\n",
    "        comp = D.Independent(D.Normal(torch.zeros(num_classes, *shape), scales), len(shape))\n",
    "\n",
    "        prior_params = {\"mixture_distribution\": mix ,\"component_distribution\":comp}\n",
    "        initargs = InitargsHandler(prior_initargs=prior_params, \n",
    "                                   posterior_initargs=posterior_params)\n",
    "        return initargs            \n",
    "    \n",
    "class NormalNormalReparam(BasePriorPosteriorReparam):\n",
    "    PRIOR: DistributionType = td.Normal\n",
    "    POSTERIOR: DistributionType = ReparamNormal\n",
    "    \n",
    "    def get_initargs(self, shape) -> InitargsHandler:\n",
    "        \"\"\"\n",
    "        init loc and scale parameters\n",
    "\n",
    "        for prior parameters, set require_grad=False\n",
    "        for posterior parameters, set require_grad=True\n",
    "        \n",
    "        \"\"\"\n",
    "        loc = nn.Parameter(torch.rand(shape), requires_grad=True)\n",
    "        scale_f = nn.Parameter(torch.randn(shape), requires_grad=True)\n",
    "\n",
    "        posterior_params = {\"loc\": loc, \"scale\": scale_f}\n",
    "\n",
    "        loc_prior = nn.Parameter(torch.zeros(shape), requires_grad=False)\n",
    "        scale_prior = nn.Parameter(torch.ones(shape), requires_grad=False)\n",
    "        prior_params = {\"loc\": loc_prior, \"scale\": scale_prior }\n",
    "        initargs = InitargsHandler(prior_initargs=prior_params, \n",
    "                                   posterior_initargs=posterior_params)\n",
    "        return initargs\n",
    "    "
   ]
  },
  {
   "cell_type": "code",
   "execution_count": 168,
   "metadata": {},
   "outputs": [
    {
     "name": "stdout",
     "output_type": "stream",
     "text": [
      "tensor(12.5654, grad_fn=<SumBackward0>)\n",
      "tensor(-7.9000, grad_fn=<SumBackward0>)\n",
      "tensor(-5.2354, grad_fn=<SumBackward0>)\n",
      "tensor(-23.7041, grad_fn=<SumBackward0>)\n",
      "tensor(-33.1505, grad_fn=<SumBackward0>)\n"
     ]
    }
   ],
   "source": [
    "class BayesLinear(nn.Module):\n",
    "    def __init__(self, n_in, n_out, reparam_module: BasePriorPosteriorReparam):\n",
    "        super(BayesLinear, self).__init__()\n",
    "        self.W: BasePriorPosteriorReparam = reparam_module(\"W\", self, (n_in, n_out))\n",
    "        self.b: BasePriorPosteriorReparam = reparam_module(\"b\", self, (1, n_out))\n",
    "\n",
    "    def forward(self, x):\n",
    "        w = self.W.rsample()\n",
    "        b = self.b.rsample()\n",
    "        rez = x @ w + b\n",
    "\n",
    "        return rez, {'prior_likelihood': self.W.prior_likelihood(w).sum(), \"posterior_likelihood\":  self.W.posterior_likelihood(w).sum()}\n",
    "    \n",
    "\n",
    "# reparam_handler = NormalNormalReparam.factory()\n",
    "reparam_handler = NormalMixNormalReparam.factory()\n",
    "net = BayesLinear(2, 3, reparam_handler)\n",
    "x = torch.rand(5, 2, requires_grad=False)\n",
    "\n",
    "optim = torch.optim.Adam(net.parameters(), lr = 0.4)\n",
    "\n",
    "for i in range(5):\n",
    "    optim.zero_grad()\n",
    "    loss, out = net(x)\n",
    "    loss = loss.sum()\n",
    "    loss.backward()\n",
    "    optim.step()\n",
    "    print(loss)\n"
   ]
  },
  {
   "cell_type": "code",
   "execution_count": 82,
   "metadata": {},
   "outputs": [
    {
     "data": {
      "text/plain": [
       "OrderedDict([('W_loc',\n",
       "              tensor([[0.9820, 0.0726, 0.6494],\n",
       "                      [0.8064, 0.4133, 0.9649]])),\n",
       "             ('W_scale',\n",
       "              tensor([[-0.5022, -1.0485,  0.2250],\n",
       "                      [-0.4193,  2.8870, -0.3995]])),\n",
       "             ('b_loc', tensor([0.9099, 0.5923, 0.7624])),\n",
       "             ('b_scale', tensor([-1.2652, -1.3917, -1.7199]))])"
      ]
     },
     "execution_count": 82,
     "metadata": {},
     "output_type": "execute_result"
    }
   ],
   "source": [
    "net.state_dict()"
   ]
  },
  {
   "cell_type": "code",
   "execution_count": 10,
   "metadata": {},
   "outputs": [
    {
     "data": {
      "text/plain": [
       "False"
      ]
     },
     "execution_count": 10,
     "metadata": {},
     "output_type": "execute_result"
    }
   ],
   "source": [
    "from numbers import Number\n",
    "\n",
    "isinstance(torch.tensor([2,3]), Number)"
   ]
  },
  {
   "cell_type": "code",
   "execution_count": 17,
   "metadata": {},
   "outputs": [],
   "source": [
    "class A:\n",
    "    def __init__(self) -> None:\n",
    "        print(\"init A\")\n",
    "\n",
    "class B(A):\n",
    "    def __init__(self) -> None:\n",
    "        \n",
    "        print(\"init B\")\n",
    "\n",
    "class C(B):\n",
    "    def __init__(self) -> None:\n",
    "        \n",
    "        print(\"init B\")"
   ]
  },
  {
   "cell_type": "code",
   "execution_count": 20,
   "metadata": {},
   "outputs": [
    {
     "data": {
      "text/plain": [
       "__main__.B"
      ]
     },
     "execution_count": 20,
     "metadata": {},
     "output_type": "execute_result"
    }
   ],
   "source": [
    "C.__base__"
   ]
  },
  {
   "cell_type": "code",
   "execution_count": null,
   "metadata": {},
   "outputs": [],
   "source": [
    "B"
   ]
  },
  {
   "cell_type": "code",
   "execution_count": 71,
   "metadata": {},
   "outputs": [
    {
     "name": "stdout",
     "output_type": "stream",
     "text": [
      "Parameter containing:\n",
      "tensor([[0.8895, 0.2050, 0.0707],\n",
      "        [0.3169, 0.1843, 0.9004]], requires_grad=True)\n",
      "Parameter containing:\n",
      "tensor([[0.3951, 0.8230, 0.0494],\n",
      "        [0.4467, 0.6799, 0.3968]], requires_grad=True)\n",
      "Parameter containing:\n",
      "tensor([[0.8895, 0.2050, 0.0707],\n",
      "        [0.3169, 0.1843, 0.9004]], requires_grad=True)\n",
      "tensor([[1.2337, 0.8009, 0.7291],\n",
      "        [0.8641, 0.7896, 1.2415]], grad_fn=<SoftplusBackward0>)\n",
      "\n",
      "Parameter containing:\n",
      "tensor([[-0.6049, -0.1770, -0.9506],\n",
      "        [-0.5533, -0.3201, -0.6032]], requires_grad=True)\n",
      "Parameter containing:\n",
      "tensor([[ 1.8895,  1.2050, -0.9293],\n",
      "        [-0.6831,  1.1843, -0.0996]], requires_grad=True)\n",
      "tensor([[2.0302, 1.4671, 0.3328],\n",
      "        [0.4088, 1.4513, 0.6446]], grad_fn=<SoftplusBackward0>)\n",
      "\n",
      "Parameter containing:\n",
      "tensor([[-1.6049, -1.1770, -1.9506],\n",
      "        [-1.5533, -1.3201, -1.6032]], requires_grad=True)\n",
      "Parameter containing:\n",
      "tensor([[ 2.8568,  1.9593, -1.5535],\n",
      "        [-0.9171,  1.2622, -0.4551]], requires_grad=True)\n",
      "tensor([[2.9127, 2.0911, 0.1919],\n",
      "        [0.3362, 1.5114, 0.4913]], grad_fn=<SoftplusBackward0>)\n",
      "\n"
     ]
    }
   ],
   "source": [
    "\n",
    "import torch\n",
    "import torch.distributions as td\n",
    "import torch.nn as nn\n",
    "import torch.nn.functional as F\n",
    "\n",
    "\n",
    "\n",
    "shape = (2,3)\n",
    "class Model(nn.Module):\n",
    "    def __init__(self, shape):\n",
    "        super(Model, self).__init__()\n",
    "\n",
    "        # self.mu = torch.nn.parameter.Parameter(torch.rand(shape, requires_grad=True), True)\n",
    "        self.register_parameter(\"mu\", torch.nn.parameter.Parameter(torch.rand(shape, requires_grad=True), True))\n",
    "        self.scale_data = torch.nn.parameter.Parameter(torch.rand(shape, requires_grad=True), True)\n",
    "        print(self.scale_data)\n",
    "        self.distr = ReparamNormal(loc = self.mu, scale=self.scale_data)\n",
    "    def forward(self, x):\n",
    "        weight = self.distr.rsample()\n",
    "        rez = (x * weight).sum()\n",
    "        return rez\n",
    "\n",
    "model = Model(shape)\n",
    "\n",
    "\n",
    "torch.autograd.set_detect_anomaly(True)\n",
    "optim = torch.optim.Adam(model.parameters(), lr = 1)\n",
    "\n",
    "x = torch.rand(shape, requires_grad=False)\n",
    "\n",
    "for i in range(3):\n",
    "    print(model.mu,model.scale_data, model.distr.scale, sep=\"\\n\", end=\"\\n\\n\")\n",
    "    optim.zero_grad()\n",
    "    loss = model(x)\n",
    "    loss.backward()\n",
    "    optim.step()\n"
   ]
  },
  {
   "cell_type": "code",
   "execution_count": null,
   "metadata": {},
   "outputs": [],
   "source": []
  },
  {
   "cell_type": "code",
   "execution_count": 36,
   "metadata": {},
   "outputs": [
    {
     "data": {
      "text/plain": [
       "OrderedDict([('mu',\n",
       "              tensor([[0.8340, 0.6007, 0.7532],\n",
       "                      [0.3539, 0.5770, 0.3395]])),\n",
       "             ('scale_data',\n",
       "              tensor([[ 0.1419, -0.9423,  0.0616],\n",
       "                      [ 1.8765,  0.5960, -0.3270]]))])"
      ]
     },
     "execution_count": 36,
     "metadata": {},
     "output_type": "execute_result"
    }
   ],
   "source": [
    "model.state_dict()"
   ]
  },
  {
   "cell_type": "code",
   "execution_count": 31,
   "metadata": {},
   "outputs": [
    {
     "name": "stdout",
     "output_type": "stream",
     "text": [
      "Parameter containing:\n",
      "tensor([[0.2158, 0.3722, 0.6167],\n",
      "        [0.3096, 0.6135, 0.5485]], requires_grad=True)\n",
      "Parameter containing:\n",
      "tensor([[ 0.3427,  0.2574, -0.0473],\n",
      "        [ 0.4101, -0.0351, -1.6176]], requires_grad=True)\n"
     ]
    }
   ],
   "source": [
    "for i in model.parameters():\n",
    "    print(i)"
   ]
  },
  {
   "cell_type": "code",
   "execution_count": 98,
   "metadata": {},
   "outputs": [
    {
     "ename": "NameError",
     "evalue": "name 'MyClass' is not defined",
     "output_type": "error",
     "traceback": [
      "\u001b[0;31m---------------------------------------------------------------------------\u001b[0m",
      "\u001b[0;31mNameError\u001b[0m                                 Traceback (most recent call last)",
      "Cell \u001b[0;32mIn[98], line 16\u001b[0m\n\u001b[1;32m     13\u001b[0m b \u001b[38;5;241m=\u001b[39m B(a)\n\u001b[1;32m     14\u001b[0m b\u001b[38;5;241m.\u001b[39mscale\n\u001b[0;32m---> 16\u001b[0m obj \u001b[38;5;241m=\u001b[39m \u001b[43mMyClass\u001b[49m(\u001b[38;5;241m5\u001b[39m)\n\u001b[1;32m     17\u001b[0m prop \u001b[38;5;241m=\u001b[39m \u001b[38;5;28mtype\u001b[39m(obj)\u001b[38;5;241m.\u001b[39mx  \u001b[38;5;66;03m# Доступ к объекту property через класс\u001b[39;00m\n\u001b[1;32m     18\u001b[0m \u001b[38;5;28mprint\u001b[39m(prop)  \u001b[38;5;66;03m# Выведет: <property object at ...>\u001b[39;00m\n",
      "\u001b[0;31mNameError\u001b[0m: name 'MyClass' is not defined"
     ]
    }
   ],
   "source": [
    "from typing import Any\n",
    "\n",
    "\n",
    "class B:\n",
    "    def __init__(self, scale) -> None:\n",
    "        self._scale = scale\n",
    "    \n",
    "    @property\n",
    "    sel\n",
    "    def print(self):\n",
    "        print(\"adsd\")\n",
    "    def __call__(self,) -> Any:\n",
    "        print(\"inn\")\n",
    "        self.scale\n",
    "a = lambda self: self.print\n",
    "b = B(a)\n",
    "b.scale\n",
    "\n",
    "obj = MyClass(5)\n",
    "prop = type(obj).x  # Доступ к объекту property через класс\n",
    "print(prop)  # Выведет: <property object at ...>"
   ]
  },
  {
   "cell_type": "code",
   "execution_count": 100,
   "metadata": {},
   "outputs": [
    {
     "data": {
      "text/plain": [
       "0"
      ]
     },
     "execution_count": 100,
     "metadata": {},
     "output_type": "execute_result"
    }
   ],
   "source": [
    "class Foo(object):\n",
    "    @property\n",
    "    def bar(self):\n",
    "        return 0\n",
    "\n",
    "f = Foo()\n",
    "\n"
   ]
  },
  {
   "cell_type": "code",
   "execution_count": 76,
   "metadata": {},
   "outputs": [
    {
     "name": "stdout",
     "output_type": "stream",
     "text": [
      "Parameter containing:\n",
      "tensor([[0.6849, 0.1259, 0.1455],\n",
      "        [0.8630, 0.0923, 0.9254]], requires_grad=True)\n",
      "Parameter containing:\n",
      "tensor([[-1.0485, -0.5215,  0.5111],\n",
      "        [-1.3493, -0.3862,  1.4204]], requires_grad=True)\n"
     ]
    }
   ],
   "source": [
    "for i in model.parameters():\n",
    "    print(i)"
   ]
  },
  {
   "cell_type": "code",
   "execution_count": 41,
   "metadata": {},
   "outputs": [
    {
     "name": "stdout",
     "output_type": "stream",
     "text": [
      "tensor([[0.6042, 0.8339, 0.5346],\n",
      "        [0.4134, 0.3233, 1.5400]], grad_fn=<SoftplusBackward0>)\n",
      "tensor([[0.6042, 0.8339, 0.5346],\n",
      "        [0.4134, 0.3233, 1.5400]], grad_fn=<SoftplusBackward0>)\n"
     ]
    }
   ],
   "source": [
    "data = torch.randn((2,3), requires_grad= False)\n",
    "params = torch.nn.parameter.Parameter(data, True)\n",
    "scale = torch.nn.functional.softplus(params)\n",
    "print(scale)\n",
    "data[0,0] = 100\n",
    "print(scale)"
   ]
  },
  {
   "cell_type": "code",
   "execution_count": 36,
   "metadata": {},
   "outputs": [
    {
     "name": "stdout",
     "output_type": "stream",
     "text": [
      "<class 'torch.Tensor'> <class 'torch.nn.parameter.Parameter'> <class 'torch.Tensor'>\n"
     ]
    }
   ],
   "source": [
    "print(type(data),type(params),type(scale) )"
   ]
  },
  {
   "cell_type": "code",
   "execution_count": null,
   "metadata": {},
   "outputs": [],
   "source": [
    "type"
   ]
  },
  {
   "cell_type": "code",
   "execution_count": 30,
   "metadata": {},
   "outputs": [
    {
     "name": "stdout",
     "output_type": "stream",
     "text": [
      "mean :  tensor([0.0060])  - Negative Loglikelihood :  5.418938636779785\n",
      "mean :  tensor([0.0120])  - Negative Loglikelihood :  5.400956630706787\n",
      "mean :  tensor([0.0180])  - Negative Loglikelihood :  5.383046627044678\n",
      "mean :  tensor([0.0239])  - Negative Loglikelihood :  5.365207672119141\n",
      "mean :  tensor([0.0299])  - Negative Loglikelihood :  5.347440242767334\n"
     ]
    }
   ],
   "source": [
    "import torch\n",
    "import torch.nn as nn\n",
    "\n",
    "class GaussianModel(nn.Module):\n",
    "\n",
    "    def __init__(self):\n",
    "        super(GaussianModel, self).__init__()\n",
    "        \n",
    "    def forward(self, x):\n",
    "        return -self.pdf.log_prob(x)\n",
    "\n",
    "model = GaussianModel()\n",
    "\n",
    "optimizer = torch.optim.SGD(model.parameters(), lr=0.002)\n",
    "for _ in range(5):\n",
    "  optimizer.zero_grad()\n",
    "  nll = model(torch.tensor([3.0], requires_grad=True))\n",
    "  nll.backward()\n",
    "  optimizer.step()\n",
    "  print('mean : ', model.state_dict()['mean'],\n",
    "                 ' - Negative Loglikelihood : ', nll.item())"
   ]
  },
  {
   "cell_type": "code",
   "execution_count": 106,
   "metadata": {},
   "outputs": [
    {
     "name": "stdout",
     "output_type": "stream",
     "text": [
      "6\n",
      "8\n"
     ]
    }
   ],
   "source": [
    "class DynamicProperty:\n",
    "    def __init__(self, func = None):\n",
    "        # Создаем свойство с помощью property и сохраняем его в поле self.func\n",
    "        # self.func = property(func)        \n",
    "        pass\n",
    "\n",
    "# Пример использования\n",
    "x = 4\n",
    "# Передаем функцию, которая использует переменную `x`\n",
    "obj = DynamicProperty(lambda self: x + 2)\n",
    "obj.__class__.func = property(lambda self: x + 2)\n",
    "\n",
    "print(obj.func)  # Выведет 6\n",
    "\n",
    "x = 6\n",
    "print(obj.func)  # Выведет 8"
   ]
  },
  {
   "cell_type": "code",
   "execution_count": 108,
   "metadata": {},
   "outputs": [
    {
     "data": {
      "text/plain": [
       "<property at 0x12ca09e90>"
      ]
     },
     "execution_count": 108,
     "metadata": {},
     "output_type": "execute_result"
    }
   ],
   "source": [
    "DynamicProperty.func"
   ]
  },
  {
   "cell_type": "code",
   "execution_count": 107,
   "metadata": {},
   "outputs": [
    {
     "data": {
      "text/plain": [
       "['__class__',\n",
       " '__delattr__',\n",
       " '__dict__',\n",
       " '__dir__',\n",
       " '__doc__',\n",
       " '__eq__',\n",
       " '__format__',\n",
       " '__ge__',\n",
       " '__getattribute__',\n",
       " '__getstate__',\n",
       " '__gt__',\n",
       " '__hash__',\n",
       " '__init__',\n",
       " '__init_subclass__',\n",
       " '__le__',\n",
       " '__lt__',\n",
       " '__module__',\n",
       " '__ne__',\n",
       " '__new__',\n",
       " '__reduce__',\n",
       " '__reduce_ex__',\n",
       " '__repr__',\n",
       " '__setattr__',\n",
       " '__sizeof__',\n",
       " '__str__',\n",
       " '__subclasshook__',\n",
       " '__weakref__',\n",
       " 'func']"
      ]
     },
     "execution_count": 107,
     "metadata": {},
     "output_type": "execute_result"
    }
   ],
   "source": [
    "dir(DynamicProperty)"
   ]
  }
 ],
 "metadata": {
  "kernelspec": {
   "display_name": "DL",
   "language": "python",
   "name": "python3"
  },
  "language_info": {
   "codemirror_mode": {
    "name": "ipython",
    "version": 3
   },
   "file_extension": ".py",
   "mimetype": "text/x-python",
   "name": "python",
   "nbconvert_exporter": "python",
   "pygments_lexer": "ipython3",
   "version": "3.12.7"
  }
 },
 "nbformat": 4,
 "nbformat_minor": 2
}
