{
 "cells": [
  {
   "cell_type": "code",
   "execution_count": 1,
   "metadata": {},
   "outputs": [],
   "source": [
    "%load_ext autoreload\n",
    "%autoreload 2\n",
    "import sys"
   ]
  },
  {
   "cell_type": "code",
   "execution_count": 2,
   "metadata": {},
   "outputs": [],
   "source": [
    "sys.path.insert(0, \"../\")"
   ]
  },
  {
   "cell_type": "code",
   "execution_count": 3,
   "metadata": {},
   "outputs": [],
   "source": [
    "import numpy as np\n",
    "import matplotlib.pyplot as plt\n",
    "\n",
    "import torchvision\n",
    "import torchvision.transforms as transforms\n",
    "\n",
    "import torch\n",
    "import torch.nn as nn \n",
    "import torch.optim as optim \n",
    "import torch.nn.functional as F"
   ]
  },
  {
   "cell_type": "code",
   "execution_count": 4,
   "metadata": {},
   "outputs": [],
   "source": [
    "\n",
    "class Classifier(nn.Module): \n",
    "    def __init__(self, classes: int = 10): \n",
    "        super().__init__() \n",
    "        self.conv1 = nn.Conv2d(1, 32, kernel_size=3, padding=1) \n",
    "        self.conv2 = nn.Conv2d(32, 64, kernel_size=3, padding=1) \n",
    "        self.pool = nn.MaxPool2d(2, 2) \n",
    "        #self.dropout1 = nn.Dropout2d(0.25) \n",
    "        #self.dropout2 = nn.Dropout2d(0.5) \n",
    "        self.fc1 = nn.Linear(64 * 7 * 7, 128) \n",
    "        self.fc2 = nn.Linear(128, classes) \n",
    "  \n",
    "    def forward(self, x): \n",
    "        x = self.pool(F.relu(self.conv1(x))) \n",
    "        #x = self.dropout1(x) \n",
    "        x = self.pool(F.relu(self.conv2(x))) \n",
    "        #x = self.dropout2(x) \n",
    "        x = x.view(-1, 64 * 7 * 7) \n",
    "        x = F.relu(self.fc1(x)) \n",
    "        x = self.fc2(x) \n",
    "        return x"
   ]
  },
  {
   "cell_type": "code",
   "execution_count": 5,
   "metadata": {},
   "outputs": [],
   "source": [
    "# imports for model changes\n",
    "from src.methods.bayes.variational.net import VarBayesModuleNet, LogUniformVarBayesModule\n",
    "from src.methods.bayes.variational.optimization import LogUniformVarKLLoss"
   ]
  },
  {
   "cell_type": "code",
   "execution_count": 6,
   "metadata": {},
   "outputs": [],
   "source": [
    "# imports for trainer\n",
    "from src.methods.bayes.variational.trainer import VarBayesTrainer, VarTrainerParams, Beta_Scheduler_Plato, CallbackLossAccuracy\n",
    "from src.methods.report.base import ReportChain\n",
    "from src.methods.report.variational import VarBaseReport"
   ]
  },
  {
   "cell_type": "code",
   "execution_count": 7,
   "metadata": {},
   "outputs": [
    {
     "data": {
      "text/plain": [
       "device(type='cuda')"
      ]
     },
     "execution_count": 7,
     "metadata": {},
     "output_type": "execute_result"
    }
   ],
   "source": [
    "device = torch.device(\"cuda\" if torch.cuda.is_available() else \"cpu\")\n",
    "device"
   ]
  },
  {
   "cell_type": "code",
   "execution_count": 8,
   "metadata": {},
   "outputs": [],
   "source": [
    "test_dataset = torchvision.datasets.MNIST(root='./data', train=True, download=True, transform=transforms.ToTensor())\n",
    "train_dataset = torchvision.datasets.MNIST(root='./data', train=False, download=True, transform=transforms.ToTensor())"
   ]
  },
  {
   "cell_type": "markdown",
   "metadata": {},
   "source": [
    "### Define parameters for training"
   ]
  },
  {
   "cell_type": "code",
   "execution_count": 9,
   "metadata": {},
   "outputs": [],
   "source": [
    "EPOCHS=5\n",
    "\n",
    "BATCH_SIZE=1024\n",
    "LR = 1e-3 #5e-4\n",
    "# Split the training set into training and validation sets \n",
    "VAL_PERCENT = 0.2 # percentage of the data used for validation \n",
    "SAMPLES = 10\n",
    "BETA = 1e-2 #5e-5 #len(train_dataset) *1. / BATCH_SIZE\n",
    "BETA_FAC = 5e-1\n",
    "PRUNE = -5#1.99, 2.1\n",
    "PLATO_TOL = 20\n",
    "\n",
    "# define a module and make a Bayesian model out of it\n",
    "\"\"\"\n",
    "base_module = Classifier()\n",
    "var_module = LogUniformVarBayesModule(base_module)\n",
    "model = VarBayesModuleNet(base_module, nn.ModuleList([var_module]))\n",
    "\"\"\"\n",
    "base_module = Classifier()\n",
    "var_module1 = LogUniformVarBayesModule(base_module.conv1)\n",
    "#bayes_model = VarBayesModuleNet(module, nn.ModuleList([var_module])) #Первый аргумент базовая сеть, второй список всех слоев (где нужные из них являются байесовыми)\n",
    "model = VarBayesModuleNet(base_module, nn.ModuleDict({'conv1': var_module1}))\n",
    "\n",
    "# set an optimizer\n",
    "optimizer = optim.Adam(model.parameters(), lr=LR)\n",
    "\n",
    "# define losses\n",
    "fit_loss = nn.CrossEntropyLoss() \n",
    "kl_loss = LogUniformVarKLLoss()\n",
    "\n",
    "# define loss scalers scheduler\n",
    "beta = Beta_Scheduler_Plato(BETA, BETA_FAC, PLATO_TOL)\n",
    "beta_KL = Beta_Scheduler_Plato(beta.beta, 1 / BETA_FAC, PLATO_TOL, ref = beta, threshold=1e-4)\n",
    "\n",
    "\n",
    "def post_train_step(trainer: VarTrainerParams, train_result: VarBayesTrainer.TrainResult):\n",
    "    beta.step(train_result.fit_loss)\n",
    "    beta_KL.step(train_result.dist_loss)\n",
    "    trainer.params.beta = float(beta)\n",
    "\n",
    "train_params = VarTrainerParams(\n",
    "                num_epochs= EPOCHS, \n",
    "                optimizer=optimizer, \n",
    "                fit_loss=fit_loss, \n",
    "                dist_loss= kl_loss,\n",
    "                num_samples=SAMPLES,\n",
    "                prune_threshold=PRUNE,\n",
    "                beta=beta,\n",
    "                callback_losses={'accuracy': CallbackLossAccuracy()}\n",
    "                )"
   ]
  },
  {
   "cell_type": "markdown",
   "metadata": {},
   "source": [
    "### prepare dataloader"
   ]
  },
  {
   "cell_type": "code",
   "execution_count": 10,
   "metadata": {},
   "outputs": [],
   "source": [
    "val_size    = int(VAL_PERCENT * len(train_dataset)) \n",
    "train_size  = len(train_dataset) - val_size \n",
    "\n",
    "t_dataset, v_dataset = torch.utils.data.random_split(train_dataset,  \n",
    "                                                        [train_size,  \n",
    "                                                            val_size]) \n",
    "\n",
    "# Create DataLoaders for the training and validation sets \n",
    "train_loader = torch.utils.data.DataLoader(t_dataset,  \n",
    "                                        batch_size=BATCH_SIZE,  \n",
    "                                        shuffle=True, \n",
    "                                        pin_memory=True) \n",
    "\n",
    "eval_loader = torch.utils.data.DataLoader(v_dataset,  \n",
    "                                        batch_size=BATCH_SIZE,  \n",
    "                                        shuffle=False, \n",
    "                                        pin_memory=True)"
   ]
  },
  {
   "cell_type": "markdown",
   "metadata": {},
   "source": [
    "### train model"
   ]
  },
  {
   "cell_type": "code",
   "execution_count": 11,
   "metadata": {},
   "outputs": [
    {
     "data": {
      "application/vnd.jupyter.widget-view+json": {
       "model_id": "8d5df0c4acae4855bc4840a6e623ec89",
       "version_major": 2,
       "version_minor": 0
      },
      "text/plain": [
       "  0%|          | 0/5 [00:00<?, ?it/s]"
      ]
     },
     "metadata": {},
     "output_type": "display_data"
    },
    {
     "name": "stdout",
     "output_type": "stream",
     "text": [
      "Epoch [1/5],Loss:25.343673706054688, KL Loss: 2327.2314453125. FitLoss: 2.0713610649108887,Accuracy:0.41454045222355773,Validation Loss:24.8254451751709,Validation Accuracy:0.6997950819672131, Prune parameters: 0.0/320,Beta: 0.01\n",
      "Epoch [2/5],Loss:24.374618530273438, KL Loss: 2323.19482421875. FitLoss: 1.1426671743392944,Accuracy:0.7385178786057691,Validation Loss:23.92967987060547,Validation Accuracy:0.7889344262295082, Prune parameters: 0.0/320,Beta: 0.01\n",
      "Epoch [3/5],Loss:23.797780990600586, KL Loss: 2319.248779296875. FitLoss: 0.6052942872047424,Accuracy:0.808795635516827,Validation Loss:23.672582626342773,Validation Accuracy:0.8432377049180327, Prune parameters: 0.0/320,Beta: 0.01\n",
      "Epoch [4/5],Loss:23.60993766784668, KL Loss: 2315.275146484375. FitLoss: 0.4571865200996399,Accuracy:0.8576040414663462,Validation Loss:23.557052612304688,Validation Accuracy:0.8790983606557377, Prune parameters: 0.0/320,Beta: 0.01\n",
      "Epoch [5/5],Loss:23.494670867919922, KL Loss: 2311.255126953125. FitLoss: 0.38212066888809204,Accuracy:0.8857966496394232,Validation Loss:23.445945739746094,Validation Accuracy:0.8924180327868853, Prune parameters: 0.0/320,Beta: 0.01\n"
     ]
    },
    {
     "data": {
      "text/plain": [
       "<src.methods.bayes.variational.net_distribution.VarBayesModuleNetDistribution at 0x7fa648c76960>"
      ]
     },
     "execution_count": 11,
     "metadata": {},
     "output_type": "execute_result"
    }
   ],
   "source": [
    "model.to(device)\n",
    "\n",
    "# if one wanna to use fixed betas, then use second line\n",
    "trainer = VarBayesTrainer(train_params, ReportChain([VarBaseReport()]), train_loader, eval_loader, [post_train_step])\n",
    "# trainer = VarBayesTrainer(train_params, ReportChain([VarBaseReport()]), train_loader, eval_loader)\n",
    "\n",
    "trainer.train(model)"
   ]
  },
  {
   "cell_type": "markdown",
   "metadata": {},
   "source": [
    "### Show, that  trained model can be pruned well"
   ]
  },
  {
   "cell_type": "code",
   "execution_count": 12,
   "metadata": {},
   "outputs": [
    {
     "data": {
      "image/png": "[encoded data removed]",
      "text/plain": [
       "<Figure size 640x480 with 1 Axes>"
      ]
     },
     "metadata": {},
     "output_type": "display_data"
    }
   ],
   "source": [
    "thresholds = np.linspace(1, 4, 25)\n",
    "threshold_results = trainer.eval_thresholds(model, thresholds)\n",
    "\n",
    "# plot dependence of accuracy on count on non pruned parameter\n",
    "x_s = [(a.cnt_prune_parameters / a.cnt_params).cpu().numpy() for a in threshold_results]\n",
    "x_s = 1. - np.array(x_s) # now we get partition of non pruned parameters\n",
    "y_s = [a.custom_losses[\"val_accuracy\"] for a in threshold_results]\n",
    "\n",
    "plt.plot(x_s, y_s)\n",
    "plt.xlabel(\"Non pruned params, %\")\n",
    "plt.ylabel(\"Accuracy, %\")\n",
    "plt.title(\"Accuracy on count of nonpruned params\")\n",
    "plt.grid()"
   ]
  }
 ],
 "metadata": {
  "kernelspec": {
   "display_name": "base",
   "language": "python",
   "name": "python3"
  },
  "language_info": {
   "codemirror_mode": {
    "name": "ipython",
    "version": 3
   },
   "file_extension": ".py",
   "mimetype": "text/x-python",
   "name": "python",
   "nbconvert_exporter": "python",
   "pygments_lexer": "ipython3",
   "version": "3.12.7"
  }
 },
 "nbformat": 4,
 "nbformat_minor": 2
}
