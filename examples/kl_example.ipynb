{
 "cells": [
  {
   "cell_type": "code",
   "execution_count": 1,
   "metadata": {},
   "outputs": [],
   "source": [
    "%load_ext autoreload\n",
    "%autoreload 2"
   ]
  },
  {
   "cell_type": "code",
   "execution_count": 2,
   "metadata": {},
   "outputs": [],
   "source": [
    "import numpy as np\n",
    "import matplotlib.pyplot as plt\n",
    "\n",
    "import torchvision\n",
    "import torchvision.transforms as transforms\n",
    "\n",
    "import torch\n",
    "import torch.nn as nn \n",
    "import torch.optim as optim \n",
    "import torch.nn.functional as F"
   ]
  },
  {
   "cell_type": "code",
   "execution_count": 3,
   "metadata": {},
   "outputs": [],
   "source": [
    "\n",
    "class Classifier(nn.Module): \n",
    "    def __init__(self, classes: int = 10): \n",
    "        super().__init__() \n",
    "        self.conv1 = nn.Conv2d(1, 32, kernel_size=3, padding=1) \n",
    "        self.conv2 = nn.Conv2d(32, 64, kernel_size=3, padding=1) \n",
    "        self.pool = nn.MaxPool2d(2, 2) \n",
    "        #self.dropout1 = nn.Dropout2d(0.25) \n",
    "        #self.dropout2 = nn.Dropout2d(0.5) \n",
    "        self.fc1 = nn.Linear(64 * 7 * 7, 128) \n",
    "        self.fc2 = nn.Linear(128, classes) \n",
    "  \n",
    "    def forward(self, x): \n",
    "        x = self.pool(F.relu(self.conv1(x))) \n",
    "        #x = self.dropout1(x) \n",
    "        x = self.pool(F.relu(self.conv2(x))) \n",
    "        #x = self.dropout2(x) \n",
    "        x = x.view(-1, 64 * 7 * 7) \n",
    "        x = F.relu(self.fc1(x)) \n",
    "        x = self.fc2(x) \n",
    "        return x"
   ]
  },
  {
   "cell_type": "code",
   "execution_count": 4,
   "metadata": {},
   "outputs": [],
   "source": [
    "# imports for model changes\n",
    "from src.methods.bayes.variational.net import VarBayesModuleNet, LogUniformVarBayesModule\n",
    "from src.methods.bayes.variational.optimization import LogUniformVarKLLoss"
   ]
  },
  {
   "cell_type": "code",
   "execution_count": 5,
   "metadata": {},
   "outputs": [],
   "source": [
    "# imports for trainer\n",
    "from src.methods.bayes.variational.trainer import VarBayesTrainer, VarTrainerParams, Beta_Scheduler_Plato, CallbackLossAccuracy\n",
    "from src.methods.report.base import ReportChain\n",
    "from src.methods.report.variational import VarBaseReport"
   ]
  },
  {
   "cell_type": "code",
   "execution_count": 6,
   "metadata": {},
   "outputs": [
    {
     "data": {
      "text/plain": [
       "device(type='cuda')"
      ]
     },
     "execution_count": 6,
     "metadata": {},
     "output_type": "execute_result"
    }
   ],
   "source": [
    "device = torch.device(\"cuda\" if torch.cuda.is_available() else \"cpu\")\n",
    "device"
   ]
  },
  {
   "cell_type": "code",
   "execution_count": 7,
   "metadata": {},
   "outputs": [],
   "source": [
    "test_dataset = torchvision.datasets.MNIST(root='./data', train=True, download=True, transform=transforms.ToTensor())\n",
    "train_dataset = torchvision.datasets.MNIST(root='./data', train=False, download=True, transform=transforms.ToTensor())"
   ]
  },
  {
   "cell_type": "markdown",
   "metadata": {},
   "source": [
    "### Define parameters for training"
   ]
  },
  {
   "cell_type": "code",
   "execution_count": 8,
   "metadata": {},
   "outputs": [],
   "source": [
    "EPOCHS=5\n",
    "\n",
    "BATCH_SIZE=1024\n",
    "LR = 1e-3 #5e-4\n",
    "# Split the training set into training and validation sets \n",
    "VAL_PERCENT = 0.2 # percentage of the data used for validation \n",
    "SAMPLES = 10\n",
    "BETA = 1e-2 #5e-5 #len(train_dataset) *1. / BATCH_SIZE\n",
    "BETA_FAC = 5e-1\n",
    "PRUNE = -5#1.99, 2.1\n",
    "PLATO_TOL = 20\n",
    "\n",
    "# define a module and make a Bayesian model out of it\n",
    "base_module = Classifier()\n",
    "var_module = LogUniformVarBayesModule(base_module)\n",
    "model = VarBayesModuleNet(base_module, nn.ModuleList([var_module]))\n",
    "\n",
    "# set an optimizer\n",
    "optimizer = optim.Adam(model.parameters(), lr=LR)\n",
    "\n",
    "# define losses\n",
    "fit_loss = nn.CrossEntropyLoss() \n",
    "kl_loss = LogUniformVarKLLoss()\n",
    "\n",
    "# define loss scalers scheduler\n",
    "beta = Beta_Scheduler_Plato(BETA, BETA_FAC, PLATO_TOL)\n",
    "beta_KL = Beta_Scheduler_Plato(beta.beta, 1 / BETA_FAC, PLATO_TOL, ref = beta, threshold=1e-4)\n",
    "\n",
    "\n",
    "def post_train_step(trainer: VarTrainerParams, train_result: VarBayesTrainer.TrainResult):\n",
    "    beta.step(train_result.fit_loss)\n",
    "    beta_KL.step(train_result.dist_loss)\n",
    "    trainer.params.beta = float(beta)\n",
    "\n",
    "train_params = VarTrainerParams(\n",
    "                num_epochs= EPOCHS, \n",
    "                optimizer=optimizer, \n",
    "                fit_loss=fit_loss, \n",
    "                dist_loss= kl_loss,\n",
    "                num_samples=SAMPLES,\n",
    "                prune_threshold=PRUNE,\n",
    "                beta=beta,\n",
    "                callback_losses={'accuracy': CallbackLossAccuracy()}\n",
    "                )"
   ]
  },
  {
   "cell_type": "markdown",
   "metadata": {},
   "source": [
    "### prepare dataloader"
   ]
  },
  {
   "cell_type": "code",
   "execution_count": 9,
   "metadata": {},
   "outputs": [],
   "source": [
    "val_size    = int(VAL_PERCENT * len(train_dataset)) \n",
    "train_size  = len(train_dataset) - val_size \n",
    "\n",
    "t_dataset, v_dataset = torch.utils.data.random_split(train_dataset,  \n",
    "                                                        [train_size,  \n",
    "                                                            val_size]) \n",
    "\n",
    "# Create DataLoaders for the training and validation sets \n",
    "train_loader = torch.utils.data.DataLoader(t_dataset,  \n",
    "                                        batch_size=BATCH_SIZE,  \n",
    "                                        shuffle=True, \n",
    "                                        pin_memory=True) \n",
    "\n",
    "eval_loader = torch.utils.data.DataLoader(v_dataset,  \n",
    "                                        batch_size=BATCH_SIZE,  \n",
    "                                        shuffle=False, \n",
    "                                        pin_memory=True)"
   ]
  },
  {
   "cell_type": "markdown",
   "metadata": {},
   "source": [
    "### train model"
   ]
  },
  {
   "cell_type": "code",
   "execution_count": 10,
   "metadata": {},
   "outputs": [
    {
     "data": {
      "application/vnd.jupyter.widget-view+json": {
       "model_id": "3b8eeee1bfe9411f83d383718d55d1c6",
       "version_major": 2,
       "version_minor": 0
      },
      "text/plain": [
       "  0%|          | 0/5 [00:00<?, ?it/s]"
      ]
     },
     "metadata": {},
     "output_type": "display_data"
    },
    {
     "name": "stdout",
     "output_type": "stream",
     "text": [
      "Epoch [1/5],Loss:30396.4921875, KL Loss: 3039439.0. FitLoss: 2.102475166320801,Accuracy:0.39075458233173077,Validation Loss:30366.640625,Validation Accuracy:0.7182377049180327, Prune parameters: 0.0/421642,Beta: 0.01\n",
      "Epoch [2/5],Loss:30343.3671875, KL Loss: 3034216.0. FitLoss: 1.209287166595459,Accuracy:0.7438382662259617,Validation Loss:30313.5390625,Validation Accuracy:0.8176229508196722, Prune parameters: 0.0/421642,Beta: 0.01\n",
      "Epoch [3/5],Loss:30290.609375, KL Loss: 3028998.5. FitLoss: 0.6253997087478638,Accuracy:0.80760498046875,Validation Loss:30261.12109375,Validation Accuracy:0.8555327868852459, Prune parameters: 0.0/421642,Beta: 0.01\n",
      "Epoch [4/5],Loss:30238.236328125, KL Loss: 3023777.75. FitLoss: 0.4598350524902344,Accuracy:0.8594266451322113,Validation Loss:30208.77734375,Validation Accuracy:0.8975409836065574, Prune parameters: 0.0/421642,Beta: 0.01\n",
      "Epoch [5/5],Loss:30185.90234375, KL Loss: 3018553.25. FitLoss: 0.3727557957172394,Accuracy:0.886559119591346,Validation Loss:30156.4453125,Validation Accuracy:0.9036885245901639, Prune parameters: 0.0/421642,Beta: 0.01\n"
     ]
    },
    {
     "data": {
      "text/plain": [
       "<src.methods.bayes.variational.net_distribution.VarBayesModuleNetDistribution at 0x7fecfb9f64e0>"
      ]
     },
     "execution_count": 10,
     "metadata": {},
     "output_type": "execute_result"
    }
   ],
   "source": [
    "model.to(device)\n",
    "\n",
    "# if one wanna to use fixed betas, then use second line\n",
    "trainer = VarBayesTrainer(train_params, ReportChain([VarBaseReport()]), train_loader, eval_loader, [post_train_step])\n",
    "# trainer = VarBayesTrainer(train_params, ReportChain([VarBaseReport()]), train_loader, eval_loader)\n",
    "\n",
    "trainer.train(model)"
   ]
  },
  {
   "cell_type": "markdown",
   "metadata": {},
   "source": [
    "### Show, that  trained model can be pruned well"
   ]
  },
  {
   "cell_type": "code",
   "execution_count": 11,
   "metadata": {},
   "outputs": [
    {
     "data": {
      "image/png": "[encoded data removed]",
      "text/plain": [
       "<Figure size 640x480 with 1 Axes>"
      ]
     },
     "metadata": {},
     "output_type": "display_data"
    }
   ],
   "source": [
    "thresholds = np.linspace(1, 4, 25)\n",
    "threshold_results = trainer.eval_thresholds(model, thresholds)\n",
    "\n",
    "# plot dependence of accuracy on count on non pruned parameter\n",
    "x_s = [(a.cnt_prune_parameters / a.cnt_params).cpu().numpy() for a in threshold_results]\n",
    "x_s = 1. - np.array(x_s) # now we get partition of non pruned parameters\n",
    "y_s = [a.custom_losses[\"val_accuracy\"] for a in threshold_results]\n",
    "\n",
    "plt.plot(x_s, y_s)\n",
    "plt.xlabel(\"Non pruned params, %\")\n",
    "plt.ylabel(\"Accuracy, %\")\n",
    "plt.title(\"Accuracy on count of nonpruned params\")\n",
    "plt.grid()"
   ]
  }
 ],
 "metadata": {
  "kernelspec": {
   "display_name": "DL",
   "language": "python",
   "name": "python3"
  },
  "language_info": {
   "codemirror_mode": {
    "name": "ipython",
    "version": 3
   },
   "file_extension": ".py",
   "mimetype": "text/x-python",
   "name": "python",
   "nbconvert_exporter": "python",
   "pygments_lexer": "ipython3",
   "version": "3.12.7"
  }
 },
 "nbformat": 4,
 "nbformat_minor": 2
}
