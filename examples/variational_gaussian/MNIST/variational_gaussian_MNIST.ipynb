{
 "cells": [
  {
   "cell_type": "markdown",
   "metadata": {},
   "source": [
    "# Bayessian NN with gaussian variational learning on MNIST\n",
    "\n",
    "In the example we will learn ordinary and bayessian NNs on MNIST dataset, compare their performances, evaluate pruning effectiveness and model's uncertainty"
   ]
  },
  {
   "cell_type": "code",
   "execution_count": 1,
   "metadata": {},
   "outputs": [],
   "source": [
    "%load_ext autoreload\n",
    "%autoreload 2"
   ]
  },
  {
   "cell_type": "code",
   "execution_count": 2,
   "metadata": {},
   "outputs": [],
   "source": [
    "from pathlib import Path\n",
    "import shutil\n",
    "from datetime import datetime\n",
    "from functools import partial\n",
    "from tqdm.notebook import tqdm\n",
    "\n",
    "import torch\n",
    "import torch.nn as nn\n",
    "import torch.nn.functional as F\n",
    "import torch.optim as optim\n",
    "from torch.utils.tensorboard import SummaryWriter\n",
    "from torch.utils.data import DataLoader\n",
    "from matplotlib import pyplot as plt\n",
    "\n",
    "from classification_nn import ClassificationNet\n",
    "from metrics import log_metrics\n",
    "from variational_gaussian.bayes_nn import MakeModuleBayessian\n",
    "from variational_gaussian.bayessian_loss import MakeLossBayessian\n",
    "\n",
    "from torchvision.datasets import MNIST\n",
    "from torchvision.transforms.functional import pil_to_tensor"
   ]
  },
  {
   "cell_type": "code",
   "execution_count": 3,
   "metadata": {},
   "outputs": [],
   "source": [
    "import yaml\n",
    "\n",
    "# load experiment's config\n",
    "with open(\"params.yaml\") as f:\n",
    "    exp_params = yaml.full_load(f)"
   ]
  },
  {
   "cell_type": "code",
   "execution_count": 4,
   "metadata": {},
   "outputs": [],
   "source": [
    "# cleaning cwd\n",
    "if Path(\"runs\").exists():\n",
    "    shutil.rmtree(Path(\"runs\"))\n",
    "\n",
    "artifacts_dir = Path(\"artifacts/\")\n",
    "if artifacts_dir.exists():\n",
    "    shutil.rmtree(artifacts_dir)\n",
    "artifacts_dir.mkdir()"
   ]
  },
  {
   "cell_type": "code",
   "execution_count": 5,
   "metadata": {},
   "outputs": [
    {
     "name": "stdout",
     "output_type": "stream",
     "text": [
      "Device: cpu\n"
     ]
    }
   ],
   "source": [
    "if torch.cuda.is_available():\n",
    "    device = torch.device(\"cuda\")\n",
    "else:\n",
    "    device = torch.device(\"cpu\")\n",
    "\n",
    "print(\"Device:\", device)"
   ]
  },
  {
   "cell_type": "markdown",
   "metadata": {},
   "source": [
    "## Loading MNIST dataset"
   ]
  },
  {
   "cell_type": "code",
   "execution_count": 6,
   "metadata": {},
   "outputs": [],
   "source": [
    "# load dataset\n",
    "\n",
    "def img_transform(img):\n",
    "    return pil_to_tensor(img).float()\n",
    "\n",
    "train_dataset = MNIST(\"./data\", train=True, download=True, transform=img_transform)\n",
    "test_dataset = MNIST(\"./data\", train=False, download=True, transform=img_transform)"
   ]
  },
  {
   "cell_type": "code",
   "execution_count": 7,
   "metadata": {},
   "outputs": [],
   "source": [
    "train_loader = DataLoader(train_dataset, batch_size=exp_params[\"batch_size\"], shuffle=True)\n",
    "test_loader = DataLoader(test_dataset, batch_size=exp_params[\"batch_size\"], shuffle=False)"
   ]
  },
  {
   "cell_type": "code",
   "execution_count": 8,
   "metadata": {},
   "outputs": [
    {
     "name": "stdout",
     "output_type": "stream",
     "text": [
      "torch.Size([1, 28, 28])\n"
     ]
    }
   ],
   "source": [
    "IMG_SIZE = train_dataset[0][0].shape\n",
    "print(IMG_SIZE)\n",
    "NUM_CLASSES = 10"
   ]
  },
  {
   "cell_type": "markdown",
   "metadata": {},
   "source": [
    "## Learn Basic NN"
   ]
  },
  {
   "cell_type": "code",
   "execution_count": 9,
   "metadata": {},
   "outputs": [
    {
     "name": "stdout",
     "output_type": "stream",
     "text": [
      "Sequential(\n",
      "  (0): BatchNorm2d(1, eps=1e-05, momentum=0.1, affine=True, track_running_stats=True)\n",
      "  (1): Flatten(start_dim=1, end_dim=-1)\n",
      "  (2): Linear(in_features=784, out_features=128, bias=True)\n",
      "  (3): BatchNorm1d(128, eps=1e-05, momentum=0.1, affine=True, track_running_stats=True)\n",
      "  (4): Linear(in_features=128, out_features=128, bias=True)\n",
      "  (5): ReLU()\n",
      "  (6): Linear(in_features=128, out_features=128, bias=True)\n",
      "  (7): ReLU()\n",
      "  (8): BatchNorm1d(128, eps=1e-05, momentum=0.1, affine=True, track_running_stats=True)\n",
      "  (9): Linear(in_features=128, out_features=128, bias=True)\n",
      "  (10): ReLU()\n",
      "  (11): Linear(in_features=128, out_features=10, bias=True)\n",
      ")\n"
     ]
    }
   ],
   "source": [
    "basic_nn = ClassificationNet(IMG_SIZE, NUM_CLASSES, exp_params[\"num_layers\"], exp_params[\"hidden_size\"])\n",
    "basic_nn = basic_nn.float().to(device)\n",
    "\n",
    "for module in basic_nn.children():\n",
    "    print(module)"
   ]
  },
  {
   "cell_type": "code",
   "execution_count": 11,
   "metadata": {},
   "outputs": [],
   "source": [
    "# define yours optimization\n",
    "\n",
    "N_EPOCHS = 4\n",
    "LR = 1e-3\n",
    "# add L_2 regularization\n",
    "WEIGHT_DECAY = 1e-3\n",
    "\n",
    "optimizer = optim.Adam(basic_nn.parameters(), lr=LR, weight_decay=WEIGHT_DECAY)"
   ]
  },
  {
   "cell_type": "code",
   "execution_count": 12,
   "metadata": {},
   "outputs": [],
   "source": [
    "writer = SummaryWriter()"
   ]
  },
  {
   "cell_type": "code",
   "execution_count": 13,
   "metadata": {},
   "outputs": [
    {
     "data": {
      "application/vnd.jupyter.widget-view+json": {
       "model_id": "c8f2acc9216e4892b7926a6d4a7d6ddf",
       "version_major": 2,
       "version_minor": 0
      },
      "text/plain": [
       "Epochs:   0%|          | 0/4 [00:00<?, ?it/s]"
      ]
     },
     "metadata": {},
     "output_type": "display_data"
    },
    {
     "data": {
      "application/vnd.jupyter.widget-view+json": {
       "model_id": "2e5292fe0b8d43709d8987ac9955b697",
       "version_major": 2,
       "version_minor": 0
      },
      "text/plain": [
       "Train batches:   0%|          | 0/1875 [00:00<?, ?it/s]"
      ]
     },
     "metadata": {},
     "output_type": "display_data"
    },
    {
     "data": {
      "application/vnd.jupyter.widget-view+json": {
       "model_id": "f363e058565d47e7b5322ca85f122688",
       "version_major": 2,
       "version_minor": 0
      },
      "text/plain": [
       "Test batchs:   0%|          | 0/313 [00:00<?, ?it/s]"
      ]
     },
     "metadata": {},
     "output_type": "display_data"
    },
    {
     "data": {
      "application/vnd.jupyter.widget-view+json": {
       "model_id": "6fafa4250f7645609a98a5f20edd85a9",
       "version_major": 2,
       "version_minor": 0
      },
      "text/plain": [
       "Train batches:   0%|          | 0/1875 [00:00<?, ?it/s]"
      ]
     },
     "metadata": {},
     "output_type": "display_data"
    },
    {
     "data": {
      "application/vnd.jupyter.widget-view+json": {
       "model_id": "a3e41f8704a64b339c99bc74b11e40bf",
       "version_major": 2,
       "version_minor": 0
      },
      "text/plain": [
       "Test batchs:   0%|          | 0/313 [00:00<?, ?it/s]"
      ]
     },
     "metadata": {},
     "output_type": "display_data"
    },
    {
     "data": {
      "application/vnd.jupyter.widget-view+json": {
       "model_id": "5dff3a460a2f49ad9b3a927dc4839aeb",
       "version_major": 2,
       "version_minor": 0
      },
      "text/plain": [
       "Train batches:   0%|          | 0/1875 [00:00<?, ?it/s]"
      ]
     },
     "metadata": {},
     "output_type": "display_data"
    },
    {
     "data": {
      "application/vnd.jupyter.widget-view+json": {
       "model_id": "605f670794e6408ca478cb5dc94a3527",
       "version_major": 2,
       "version_minor": 0
      },
      "text/plain": [
       "Test batchs:   0%|          | 0/313 [00:00<?, ?it/s]"
      ]
     },
     "metadata": {},
     "output_type": "display_data"
    },
    {
     "data": {
      "application/vnd.jupyter.widget-view+json": {
       "model_id": "21e046cdb15c4c09a40c9d7597b6094c",
       "version_major": 2,
       "version_minor": 0
      },
      "text/plain": [
       "Train batches:   0%|          | 0/1875 [00:00<?, ?it/s]"
      ]
     },
     "metadata": {},
     "output_type": "display_data"
    },
    {
     "data": {
      "application/vnd.jupyter.widget-view+json": {
       "model_id": "d455924ec5a84facb6b0d11b861b863a",
       "version_major": 2,
       "version_minor": 0
      },
      "text/plain": [
       "Test batchs:   0%|          | 0/313 [00:00<?, ?it/s]"
      ]
     },
     "metadata": {},
     "output_type": "display_data"
    }
   ],
   "source": [
    "global_step = 0\n",
    "\n",
    "for epoch in tqdm(range(N_EPOCHS), desc=\"Epochs\"):\n",
    "    # training\n",
    "    basic_nn.train()\n",
    "\n",
    "    for imgs, targets in tqdm(train_loader, desc=\"Train batches\", leave=False):\n",
    "        imgs = imgs.to(device, torch.float32)\n",
    "        targets = targets.to(device)\n",
    "\n",
    "        logits = basic_nn(imgs)\n",
    "        loss = F.cross_entropy(logits, targets)\n",
    "\n",
    "        optimizer.zero_grad()\n",
    "        loss.backward()\n",
    "        optimizer.step()\n",
    "\n",
    "        writer.add_scalar(\"Train/Cross_entropy\", loss.item(), global_step)\n",
    "        global_step += 1\n",
    "\n",
    "    # testing\n",
    "    basic_nn.eval()\n",
    "    with torch.no_grad():\n",
    "        log_metrics(global_step, basic_nn, test_loader, device, writer)\n",
    "\n",
    "    # saving model\n",
    "    torch.save(basic_nn.state_dict(), artifacts_dir / \"basic_nn.pkl\")\n",
    "\n",
    "writer.close()"
   ]
  },
  {
   "cell_type": "code",
   "execution_count": 14,
   "metadata": {},
   "outputs": [
    {
     "data": {
      "application/vnd.jupyter.widget-view+json": {
       "model_id": "7b1e558f6cc1499c9b201587421c19de",
       "version_major": 2,
       "version_minor": 0
      },
      "text/plain": [
       "Test batchs:   0%|          | 0/313 [00:00<?, ?it/s]"
      ]
     },
     "metadata": {},
     "output_type": "display_data"
    },
    {
     "name": "stdout",
     "output_type": "stream",
     "text": [
      "{'Test/Cross_entropy': 0.10904046893119812, 'Test/Accuracy': 0.9693, 'Test/Precision_macro': np.float64(0.9695484847300767), 'Test/Recall_macro': np.float64(0.9691272930732874)}\n"
     ]
    }
   ],
   "source": [
    "with torch.no_grad():\n",
    "    basic_nn_metrics = log_metrics(0, basic_nn, test_loader, device)\n",
    "print(basic_nn_metrics)"
   ]
  },
  {
   "cell_type": "markdown",
   "metadata": {},
   "source": [
    "## Learn Bayessian NN"
   ]
  },
  {
   "cell_type": "code",
   "execution_count": 15,
   "metadata": {},
   "outputs": [
    {
     "name": "stdout",
     "output_type": "stream",
     "text": [
      "BayessianSequential(\n",
      "  (bayes_0): BayessianBatchNorm2d()\n",
      "  (bayes_1): BayessianFlatten()\n",
      "  (bayes_2): BayessianLinear()\n",
      "  (bayes_3): BayessianBatchNorm1d()\n",
      "  (bayes_4): BayessianLinear()\n",
      "  (bayes_5): BayessianReLU()\n",
      "  (bayes_6): BayessianLinear()\n",
      "  (bayes_7): BayessianReLU()\n",
      "  (bayes_8): BayessianBatchNorm1d()\n",
      "  (bayes_9): BayessianLinear()\n",
      "  (bayes_10): BayessianReLU()\n",
      "  (bayes_11): BayessianLinear()\n",
      ")\n"
     ]
    }
   ],
   "source": [
    "bayes_nn = MakeModuleBayessian(\n",
    "    ClassificationNet(IMG_SIZE, NUM_CLASSES, exp_params[\"num_layers\"], exp_params[\"hidden_size\"])\n",
    ")\n",
    "\n",
    "for module in bayes_nn.children():\n",
    "    print(module)"
   ]
  },
  {
   "cell_type": "code",
   "execution_count": 16,
   "metadata": {},
   "outputs": [],
   "source": [
    "bayes_loss = MakeLossBayessian(nn.CrossEntropyLoss(), bayes_nn)"
   ]
  },
  {
   "cell_type": "code",
   "execution_count": 17,
   "metadata": {},
   "outputs": [],
   "source": [
    "# define yours optimization\n",
    "\n",
    "N_ESTIMATES = 10\n",
    "\n",
    "N_EPOCHS = 4\n",
    "LR = 1e-3\n",
    "# add L_2 regularization\n",
    "WEIGHT_DECAY = 1e-5\n",
    "\n",
    "optimizer = optim.Adam(bayes_nn.parameters(), lr=LR, weight_decay=WEIGHT_DECAY)"
   ]
  },
  {
   "cell_type": "code",
   "execution_count": 18,
   "metadata": {},
   "outputs": [],
   "source": [
    "writer = SummaryWriter(\"runs/bayes_nn/\" + str(datetime.now()))"
   ]
  },
  {
   "cell_type": "code",
   "execution_count": 19,
   "metadata": {},
   "outputs": [
    {
     "data": {
      "application/vnd.jupyter.widget-view+json": {
       "model_id": "78ef4831f77a4fcd9330cdac173aa3f5",
       "version_major": 2,
       "version_minor": 0
      },
      "text/plain": [
       "Epochs:   0%|          | 0/4 [00:00<?, ?it/s]"
      ]
     },
     "metadata": {},
     "output_type": "display_data"
    },
    {
     "data": {
      "application/vnd.jupyter.widget-view+json": {
       "model_id": "f197ca79dcc448ff8e87c79eec4e3a60",
       "version_major": 2,
       "version_minor": 0
      },
      "text/plain": [
       "Train batches:   0%|          | 0/1875 [00:00<?, ?it/s]"
      ]
     },
     "metadata": {},
     "output_type": "display_data"
    },
    {
     "data": {
      "application/vnd.jupyter.widget-view+json": {
       "model_id": "e6c4e54cf72e47b9a82e0a3a00047640",
       "version_major": 2,
       "version_minor": 0
      },
      "text/plain": [
       "Test batchs:   0%|          | 0/313 [00:00<?, ?it/s]"
      ]
     },
     "metadata": {},
     "output_type": "display_data"
    },
    {
     "data": {
      "application/vnd.jupyter.widget-view+json": {
       "model_id": "7602a87d48c741559c02ac6159ae2d70",
       "version_major": 2,
       "version_minor": 0
      },
      "text/plain": [
       "Train batches:   0%|          | 0/1875 [00:00<?, ?it/s]"
      ]
     },
     "metadata": {},
     "output_type": "display_data"
    },
    {
     "data": {
      "application/vnd.jupyter.widget-view+json": {
       "model_id": "b22f59c1b5724aa2ad903496e44988b8",
       "version_major": 2,
       "version_minor": 0
      },
      "text/plain": [
       "Test batchs:   0%|          | 0/313 [00:00<?, ?it/s]"
      ]
     },
     "metadata": {},
     "output_type": "display_data"
    },
    {
     "data": {
      "application/vnd.jupyter.widget-view+json": {
       "model_id": "d7b7d253905d48f09ef45d394a458bf0",
       "version_major": 2,
       "version_minor": 0
      },
      "text/plain": [
       "Train batches:   0%|          | 0/1875 [00:00<?, ?it/s]"
      ]
     },
     "metadata": {},
     "output_type": "display_data"
    },
    {
     "data": {
      "application/vnd.jupyter.widget-view+json": {
       "model_id": "b6bdee43fda34a7bae480c39191329bb",
       "version_major": 2,
       "version_minor": 0
      },
      "text/plain": [
       "Test batchs:   0%|          | 0/313 [00:00<?, ?it/s]"
      ]
     },
     "metadata": {},
     "output_type": "display_data"
    },
    {
     "data": {
      "application/vnd.jupyter.widget-view+json": {
       "model_id": "a15a754f74e94e6da4d05be6e3e3d041",
       "version_major": 2,
       "version_minor": 0
      },
      "text/plain": [
       "Train batches:   0%|          | 0/1875 [00:00<?, ?it/s]"
      ]
     },
     "metadata": {},
     "output_type": "display_data"
    },
    {
     "data": {
      "application/vnd.jupyter.widget-view+json": {
       "model_id": "1e61581e47014e89a2e17d6dba0355fb",
       "version_major": 2,
       "version_minor": 0
      },
      "text/plain": [
       "Test batchs:   0%|          | 0/313 [00:00<?, ?it/s]"
      ]
     },
     "metadata": {},
     "output_type": "display_data"
    }
   ],
   "source": [
    "global_step = 0\n",
    "\n",
    "for epoch in tqdm(range(N_EPOCHS), desc=\"Epochs\"):\n",
    "    # training\n",
    "    bayes_nn.train()\n",
    "\n",
    "    for imgs, targets in tqdm(train_loader, desc=\"Train batches\", leave=False):\n",
    "        batch_size = imgs.shape[0]\n",
    "\n",
    "        imgs = imgs.to(device, torch.float32)\n",
    "        targets = targets.to(device)\n",
    "\n",
    "        # get list of samples\n",
    "        logits = bayes_nn(imgs)\n",
    "        loss = bayes_loss(logits, targets, alpha_KL=1 / len(train_dataset))\n",
    "\n",
    "        loss[\"full_loss\"].backward()\n",
    "        optimizer.step()\n",
    "\n",
    "        for loss_name, loss_val in loss.items():\n",
    "            writer.add_scalar(f\"Train/{loss_name}\", loss_val.item(), global_step)\n",
    "\n",
    "        optimizer.zero_grad()\n",
    "        global_step += 1\n",
    "\n",
    "    # testing\n",
    "    bayes_nn.eval()\n",
    "    with torch.no_grad():\n",
    "        log_metrics(global_step, bayes_nn, test_loader, device, writer)\n",
    "\n",
    "    # saving model\n",
    "    torch.save(bayes_nn.state_dict(), artifacts_dir / \"bayes_nn.pkl\")\n",
    "\n",
    "writer.close()"
   ]
  },
  {
   "cell_type": "code",
   "execution_count": null,
   "metadata": {},
   "outputs": [],
   "source": [
    "for p_name, param in bayes_nn.named_parameters():\n",
    "    display(p_name)\n",
    "    display(param)"
   ]
  },
  {
   "cell_type": "code",
   "execution_count": 21,
   "metadata": {},
   "outputs": [
    {
     "data": {
      "application/vnd.jupyter.widget-view+json": {
       "model_id": "6fe1a7bc86984c27b4c87b3c6c0a1b61",
       "version_major": 2,
       "version_minor": 0
      },
      "text/plain": [
       "Test batchs:   0%|          | 0/313 [00:00<?, ?it/s]"
      ]
     },
     "metadata": {},
     "output_type": "display_data"
    },
    {
     "name": "stdout",
     "output_type": "stream",
     "text": [
      "{'Test/Cross_entropy': 0.68235182762146, 'Test/Accuracy': 0.8938, 'Test/Precision_macro': np.float64(0.8940054198161194), 'Test/Recall_macro': np.float64(0.8926892517466392)}\n"
     ]
    }
   ],
   "source": [
    "with torch.no_grad():\n",
    "    bayes_nn_metrics = log_metrics(0, bayes_nn, test_loader, device)\n",
    "print(bayes_nn_metrics)"
   ]
  },
  {
   "cell_type": "code",
   "execution_count": 22,
   "metadata": {},
   "outputs": [
    {
     "name": "stdout",
     "output_type": "stream",
     "text": [
      "weight tensor(0)\n",
      "bias tensor(0)\n",
      "weight tensor(2)\n",
      "bias tensor(0)\n",
      "weight tensor(0)\n",
      "bias tensor(0)\n",
      "weight tensor(0)\n",
      "bias tensor(0)\n",
      "weight tensor(0)\n",
      "bias tensor(0)\n",
      "weight tensor(0)\n",
      "bias tensor(0)\n",
      "weight tensor(0)\n",
      "bias tensor(0)\n",
      "weight tensor(1)\n",
      "bias tensor(0)\n"
     ]
    }
   ],
   "source": [
    "map_net = bayes_nn.get_map_module(prune=True)"
   ]
  }
 ],
 "metadata": {
  "kernelspec": {
   "display_name": "non-package-mode-MnliztJp-py3.12",
   "language": "python",
   "name": "python3"
  },
  "language_info": {
   "codemirror_mode": {
    "name": "ipython",
    "version": 3
   },
   "file_extension": ".py",
   "mimetype": "text/x-python",
   "name": "python",
   "nbconvert_exporter": "python",
   "pygments_lexer": "ipython3",
   "version": "3.12.3"
  }
 },
 "nbformat": 4,
 "nbformat_minor": 2
}
